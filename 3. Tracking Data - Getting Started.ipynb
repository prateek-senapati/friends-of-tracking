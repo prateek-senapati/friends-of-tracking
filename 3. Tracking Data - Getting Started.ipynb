{
 "cells": [
  {
   "cell_type": "markdown",
   "metadata": {},
   "source": [
    "# Getting started with Metrica Sports tracking data"
   ]
  },
  {
   "cell_type": "markdown",
   "metadata": {},
   "source": [
    "In this notebook, we'll use event and tracking data provided by Metrica Sports to achieve the following targets:\n",
    "\n",
    "* Plot one of the goals scored.\n",
    "* Plot the passes leading up to that goal.\n",
    "* Plot the positions of all the players (from both the teams) when this goal was scored.\n",
    "* Plot the movements of players involved in this goal."
   ]
  },
  {
   "cell_type": "markdown",
   "metadata": {},
   "source": [
    "### Import libraries and modules"
   ]
  },
  {
   "cell_type": "code",
   "execution_count": 1,
   "metadata": {},
   "outputs": [],
   "source": [
    "import modules.Metrica_IO as mio # module for input output operations involving Metrica Sports data\n",
    "import modules.Metrica_Viz as mviz # module for visualising Metrica Sports data"
   ]
  },
  {
   "cell_type": "markdown",
   "metadata": {},
   "source": [
    "### Initial setup"
   ]
  },
  {
   "cell_type": "code",
   "execution_count": 2,
   "metadata": {},
   "outputs": [],
   "source": [
    "DATADIR = 'LaurieOnTracking-master/sample-data-master/data/' # setting up the path to data\n",
    "game_id = 1 # initialising the game id (we will be analysing the game 1's data; Metrica Sports has provided data for 2 games)"
   ]
  },
  {
   "cell_type": "markdown",
   "metadata": {},
   "source": [
    "### Read in the event and the tracking data"
   ]
  },
  {
   "cell_type": "code",
   "execution_count": 3,
   "metadata": {},
   "outputs": [
    {
     "name": "stdout",
     "output_type": "stream",
     "text": [
      "Reading team: home\n",
      "Reading team: away\n"
     ]
    }
   ],
   "source": [
    "events = mio.read_event_data(DATADIR,game_id) # reading in the event data\n",
    "tracking_home = mio.tracking_data(DATADIR,game_id,'Home') # reading in the tracking data for the home team\n",
    "tracking_away = mio.tracking_data(DATADIR,game_id,'Away') # reading in the tracking data for the away team"
   ]
  },
  {
   "cell_type": "code",
   "execution_count": 4,
   "metadata": {},
   "outputs": [
    {
     "data": {
      "text/html": [
       "<div>\n",
       "<style scoped>\n",
       "    .dataframe tbody tr th:only-of-type {\n",
       "        vertical-align: middle;\n",
       "    }\n",
       "\n",
       "    .dataframe tbody tr th {\n",
       "        vertical-align: top;\n",
       "    }\n",
       "\n",
       "    .dataframe thead th {\n",
       "        text-align: right;\n",
       "    }\n",
       "</style>\n",
       "<table border=\"1\" class=\"dataframe\">\n",
       "  <thead>\n",
       "    <tr style=\"text-align: right;\">\n",
       "      <th></th>\n",
       "      <th>Team</th>\n",
       "      <th>Type</th>\n",
       "      <th>Subtype</th>\n",
       "      <th>Period</th>\n",
       "      <th>Start Frame</th>\n",
       "      <th>Start Time [s]</th>\n",
       "      <th>End Frame</th>\n",
       "      <th>End Time [s]</th>\n",
       "      <th>From</th>\n",
       "      <th>To</th>\n",
       "      <th>Start X</th>\n",
       "      <th>Start Y</th>\n",
       "      <th>End X</th>\n",
       "      <th>End Y</th>\n",
       "    </tr>\n",
       "  </thead>\n",
       "  <tbody>\n",
       "    <tr>\n",
       "      <th>0</th>\n",
       "      <td>Away</td>\n",
       "      <td>SET PIECE</td>\n",
       "      <td>KICK OFF</td>\n",
       "      <td>1</td>\n",
       "      <td>1</td>\n",
       "      <td>0.04</td>\n",
       "      <td>0</td>\n",
       "      <td>0.00</td>\n",
       "      <td>Player19</td>\n",
       "      <td>NaN</td>\n",
       "      <td>NaN</td>\n",
       "      <td>NaN</td>\n",
       "      <td>NaN</td>\n",
       "      <td>NaN</td>\n",
       "    </tr>\n",
       "    <tr>\n",
       "      <th>1</th>\n",
       "      <td>Away</td>\n",
       "      <td>PASS</td>\n",
       "      <td>NaN</td>\n",
       "      <td>1</td>\n",
       "      <td>1</td>\n",
       "      <td>0.04</td>\n",
       "      <td>3</td>\n",
       "      <td>0.12</td>\n",
       "      <td>Player19</td>\n",
       "      <td>Player21</td>\n",
       "      <td>0.45</td>\n",
       "      <td>0.39</td>\n",
       "      <td>0.55</td>\n",
       "      <td>0.43</td>\n",
       "    </tr>\n",
       "    <tr>\n",
       "      <th>2</th>\n",
       "      <td>Away</td>\n",
       "      <td>PASS</td>\n",
       "      <td>NaN</td>\n",
       "      <td>1</td>\n",
       "      <td>3</td>\n",
       "      <td>0.12</td>\n",
       "      <td>17</td>\n",
       "      <td>0.68</td>\n",
       "      <td>Player21</td>\n",
       "      <td>Player15</td>\n",
       "      <td>0.55</td>\n",
       "      <td>0.43</td>\n",
       "      <td>0.58</td>\n",
       "      <td>0.21</td>\n",
       "    </tr>\n",
       "  </tbody>\n",
       "</table>\n",
       "</div>"
      ],
      "text/plain": [
       "   Team       Type   Subtype  Period  Start Frame  Start Time [s]  End Frame  \\\n",
       "0  Away  SET PIECE  KICK OFF       1            1            0.04          0   \n",
       "1  Away       PASS       NaN       1            1            0.04          3   \n",
       "2  Away       PASS       NaN       1            3            0.12         17   \n",
       "\n",
       "   End Time [s]      From        To  Start X  Start Y  End X  End Y  \n",
       "0          0.00  Player19       NaN      NaN      NaN    NaN    NaN  \n",
       "1          0.12  Player19  Player21     0.45     0.39   0.55   0.43  \n",
       "2          0.68  Player21  Player15     0.55     0.43   0.58   0.21  "
      ]
     },
     "execution_count": 4,
     "metadata": {},
     "output_type": "execute_result"
    }
   ],
   "source": [
    "events.head(3)"
   ]
  },
  {
   "cell_type": "code",
   "execution_count": 5,
   "metadata": {},
   "outputs": [
    {
     "data": {
      "text/html": [
       "<div>\n",
       "<style scoped>\n",
       "    .dataframe tbody tr th:only-of-type {\n",
       "        vertical-align: middle;\n",
       "    }\n",
       "\n",
       "    .dataframe tbody tr th {\n",
       "        vertical-align: top;\n",
       "    }\n",
       "\n",
       "    .dataframe thead th {\n",
       "        text-align: right;\n",
       "    }\n",
       "</style>\n",
       "<table border=\"1\" class=\"dataframe\">\n",
       "  <thead>\n",
       "    <tr style=\"text-align: right;\">\n",
       "      <th></th>\n",
       "      <th>Period</th>\n",
       "      <th>Time [s]</th>\n",
       "      <th>Home_11_x</th>\n",
       "      <th>Home_11_y</th>\n",
       "      <th>Home_1_x</th>\n",
       "      <th>Home_1_y</th>\n",
       "      <th>Home_2_x</th>\n",
       "      <th>Home_2_y</th>\n",
       "      <th>Home_3_x</th>\n",
       "      <th>Home_3_y</th>\n",
       "      <th>...</th>\n",
       "      <th>Home_10_x</th>\n",
       "      <th>Home_10_y</th>\n",
       "      <th>Home_12_x</th>\n",
       "      <th>Home_12_y</th>\n",
       "      <th>Home_13_x</th>\n",
       "      <th>Home_13_y</th>\n",
       "      <th>Home_14_x</th>\n",
       "      <th>Home_14_y</th>\n",
       "      <th>ball_x</th>\n",
       "      <th>ball_y</th>\n",
       "    </tr>\n",
       "    <tr>\n",
       "      <th>Frame</th>\n",
       "      <th></th>\n",
       "      <th></th>\n",
       "      <th></th>\n",
       "      <th></th>\n",
       "      <th></th>\n",
       "      <th></th>\n",
       "      <th></th>\n",
       "      <th></th>\n",
       "      <th></th>\n",
       "      <th></th>\n",
       "      <th></th>\n",
       "      <th></th>\n",
       "      <th></th>\n",
       "      <th></th>\n",
       "      <th></th>\n",
       "      <th></th>\n",
       "      <th></th>\n",
       "      <th></th>\n",
       "      <th></th>\n",
       "      <th></th>\n",
       "      <th></th>\n",
       "    </tr>\n",
       "  </thead>\n",
       "  <tbody>\n",
       "    <tr>\n",
       "      <th>1</th>\n",
       "      <td>1</td>\n",
       "      <td>0.04</td>\n",
       "      <td>0.00082</td>\n",
       "      <td>0.48238</td>\n",
       "      <td>0.32648</td>\n",
       "      <td>0.65322</td>\n",
       "      <td>0.33701</td>\n",
       "      <td>0.48863</td>\n",
       "      <td>0.30927</td>\n",
       "      <td>0.35529</td>\n",
       "      <td>...</td>\n",
       "      <td>0.55243</td>\n",
       "      <td>0.43269</td>\n",
       "      <td>NaN</td>\n",
       "      <td>NaN</td>\n",
       "      <td>NaN</td>\n",
       "      <td>NaN</td>\n",
       "      <td>NaN</td>\n",
       "      <td>NaN</td>\n",
       "      <td>0.45472</td>\n",
       "      <td>0.38709</td>\n",
       "    </tr>\n",
       "    <tr>\n",
       "      <th>2</th>\n",
       "      <td>1</td>\n",
       "      <td>0.08</td>\n",
       "      <td>0.00096</td>\n",
       "      <td>0.48238</td>\n",
       "      <td>0.32648</td>\n",
       "      <td>0.65322</td>\n",
       "      <td>0.33701</td>\n",
       "      <td>0.48863</td>\n",
       "      <td>0.30927</td>\n",
       "      <td>0.35529</td>\n",
       "      <td>...</td>\n",
       "      <td>0.55243</td>\n",
       "      <td>0.43269</td>\n",
       "      <td>NaN</td>\n",
       "      <td>NaN</td>\n",
       "      <td>NaN</td>\n",
       "      <td>NaN</td>\n",
       "      <td>NaN</td>\n",
       "      <td>NaN</td>\n",
       "      <td>0.49645</td>\n",
       "      <td>0.40656</td>\n",
       "    </tr>\n",
       "    <tr>\n",
       "      <th>3</th>\n",
       "      <td>1</td>\n",
       "      <td>0.12</td>\n",
       "      <td>0.00114</td>\n",
       "      <td>0.48238</td>\n",
       "      <td>0.32648</td>\n",
       "      <td>0.65322</td>\n",
       "      <td>0.33701</td>\n",
       "      <td>0.48863</td>\n",
       "      <td>0.30927</td>\n",
       "      <td>0.35529</td>\n",
       "      <td>...</td>\n",
       "      <td>0.55243</td>\n",
       "      <td>0.43269</td>\n",
       "      <td>NaN</td>\n",
       "      <td>NaN</td>\n",
       "      <td>NaN</td>\n",
       "      <td>NaN</td>\n",
       "      <td>NaN</td>\n",
       "      <td>NaN</td>\n",
       "      <td>0.53716</td>\n",
       "      <td>0.42556</td>\n",
       "    </tr>\n",
       "  </tbody>\n",
       "</table>\n",
       "<p>3 rows × 32 columns</p>\n",
       "</div>"
      ],
      "text/plain": [
       "       Period  Time [s]  Home_11_x  Home_11_y  Home_1_x  Home_1_y  Home_2_x  \\\n",
       "Frame                                                                         \n",
       "1           1      0.04    0.00082    0.48238   0.32648   0.65322   0.33701   \n",
       "2           1      0.08    0.00096    0.48238   0.32648   0.65322   0.33701   \n",
       "3           1      0.12    0.00114    0.48238   0.32648   0.65322   0.33701   \n",
       "\n",
       "       Home_2_y  Home_3_x  Home_3_y  ...  Home_10_x  Home_10_y  Home_12_x  \\\n",
       "Frame                                ...                                    \n",
       "1       0.48863   0.30927   0.35529  ...    0.55243    0.43269        NaN   \n",
       "2       0.48863   0.30927   0.35529  ...    0.55243    0.43269        NaN   \n",
       "3       0.48863   0.30927   0.35529  ...    0.55243    0.43269        NaN   \n",
       "\n",
       "       Home_12_y  Home_13_x  Home_13_y  Home_14_x  Home_14_y   ball_x   ball_y  \n",
       "Frame                                                                           \n",
       "1            NaN        NaN        NaN        NaN        NaN  0.45472  0.38709  \n",
       "2            NaN        NaN        NaN        NaN        NaN  0.49645  0.40656  \n",
       "3            NaN        NaN        NaN        NaN        NaN  0.53716  0.42556  \n",
       "\n",
       "[3 rows x 32 columns]"
      ]
     },
     "execution_count": 5,
     "metadata": {},
     "output_type": "execute_result"
    }
   ],
   "source": [
    "tracking_home.head(3)"
   ]
  },
  {
   "cell_type": "code",
   "execution_count": 6,
   "metadata": {},
   "outputs": [
    {
     "data": {
      "text/html": [
       "<div>\n",
       "<style scoped>\n",
       "    .dataframe tbody tr th:only-of-type {\n",
       "        vertical-align: middle;\n",
       "    }\n",
       "\n",
       "    .dataframe tbody tr th {\n",
       "        vertical-align: top;\n",
       "    }\n",
       "\n",
       "    .dataframe thead th {\n",
       "        text-align: right;\n",
       "    }\n",
       "</style>\n",
       "<table border=\"1\" class=\"dataframe\">\n",
       "  <thead>\n",
       "    <tr style=\"text-align: right;\">\n",
       "      <th></th>\n",
       "      <th>Period</th>\n",
       "      <th>Time [s]</th>\n",
       "      <th>Away_25_x</th>\n",
       "      <th>Away_25_y</th>\n",
       "      <th>Away_15_x</th>\n",
       "      <th>Away_15_y</th>\n",
       "      <th>Away_16_x</th>\n",
       "      <th>Away_16_y</th>\n",
       "      <th>Away_17_x</th>\n",
       "      <th>Away_17_y</th>\n",
       "      <th>...</th>\n",
       "      <th>Away_24_x</th>\n",
       "      <th>Away_24_y</th>\n",
       "      <th>Away_26_x</th>\n",
       "      <th>Away_26_y</th>\n",
       "      <th>Away_27_x</th>\n",
       "      <th>Away_27_y</th>\n",
       "      <th>Away_28_x</th>\n",
       "      <th>Away_28_y</th>\n",
       "      <th>ball_x</th>\n",
       "      <th>ball_y</th>\n",
       "    </tr>\n",
       "    <tr>\n",
       "      <th>Frame</th>\n",
       "      <th></th>\n",
       "      <th></th>\n",
       "      <th></th>\n",
       "      <th></th>\n",
       "      <th></th>\n",
       "      <th></th>\n",
       "      <th></th>\n",
       "      <th></th>\n",
       "      <th></th>\n",
       "      <th></th>\n",
       "      <th></th>\n",
       "      <th></th>\n",
       "      <th></th>\n",
       "      <th></th>\n",
       "      <th></th>\n",
       "      <th></th>\n",
       "      <th></th>\n",
       "      <th></th>\n",
       "      <th></th>\n",
       "      <th></th>\n",
       "      <th></th>\n",
       "    </tr>\n",
       "  </thead>\n",
       "  <tbody>\n",
       "    <tr>\n",
       "      <th>1</th>\n",
       "      <td>1</td>\n",
       "      <td>0.04</td>\n",
       "      <td>0.90509</td>\n",
       "      <td>0.47462</td>\n",
       "      <td>0.58393</td>\n",
       "      <td>0.20794</td>\n",
       "      <td>0.67658</td>\n",
       "      <td>0.4671</td>\n",
       "      <td>0.6731</td>\n",
       "      <td>0.76476</td>\n",
       "      <td>...</td>\n",
       "      <td>0.37833</td>\n",
       "      <td>0.27383</td>\n",
       "      <td>NaN</td>\n",
       "      <td>NaN</td>\n",
       "      <td>NaN</td>\n",
       "      <td>NaN</td>\n",
       "      <td>NaN</td>\n",
       "      <td>NaN</td>\n",
       "      <td>0.45472</td>\n",
       "      <td>0.38709</td>\n",
       "    </tr>\n",
       "    <tr>\n",
       "      <th>2</th>\n",
       "      <td>1</td>\n",
       "      <td>0.08</td>\n",
       "      <td>0.90494</td>\n",
       "      <td>0.47462</td>\n",
       "      <td>0.58393</td>\n",
       "      <td>0.20794</td>\n",
       "      <td>0.67658</td>\n",
       "      <td>0.4671</td>\n",
       "      <td>0.6731</td>\n",
       "      <td>0.76476</td>\n",
       "      <td>...</td>\n",
       "      <td>0.37833</td>\n",
       "      <td>0.27383</td>\n",
       "      <td>NaN</td>\n",
       "      <td>NaN</td>\n",
       "      <td>NaN</td>\n",
       "      <td>NaN</td>\n",
       "      <td>NaN</td>\n",
       "      <td>NaN</td>\n",
       "      <td>0.49645</td>\n",
       "      <td>0.40656</td>\n",
       "    </tr>\n",
       "    <tr>\n",
       "      <th>3</th>\n",
       "      <td>1</td>\n",
       "      <td>0.12</td>\n",
       "      <td>0.90434</td>\n",
       "      <td>0.47463</td>\n",
       "      <td>0.58393</td>\n",
       "      <td>0.20794</td>\n",
       "      <td>0.67658</td>\n",
       "      <td>0.4671</td>\n",
       "      <td>0.6731</td>\n",
       "      <td>0.76476</td>\n",
       "      <td>...</td>\n",
       "      <td>0.37833</td>\n",
       "      <td>0.27383</td>\n",
       "      <td>NaN</td>\n",
       "      <td>NaN</td>\n",
       "      <td>NaN</td>\n",
       "      <td>NaN</td>\n",
       "      <td>NaN</td>\n",
       "      <td>NaN</td>\n",
       "      <td>0.53716</td>\n",
       "      <td>0.42556</td>\n",
       "    </tr>\n",
       "  </tbody>\n",
       "</table>\n",
       "<p>3 rows × 32 columns</p>\n",
       "</div>"
      ],
      "text/plain": [
       "       Period  Time [s]  Away_25_x  Away_25_y  Away_15_x  Away_15_y  \\\n",
       "Frame                                                                 \n",
       "1           1      0.04    0.90509    0.47462    0.58393    0.20794   \n",
       "2           1      0.08    0.90494    0.47462    0.58393    0.20794   \n",
       "3           1      0.12    0.90434    0.47463    0.58393    0.20794   \n",
       "\n",
       "       Away_16_x  Away_16_y  Away_17_x  Away_17_y  ...  Away_24_x  Away_24_y  \\\n",
       "Frame                                              ...                         \n",
       "1        0.67658     0.4671     0.6731    0.76476  ...    0.37833    0.27383   \n",
       "2        0.67658     0.4671     0.6731    0.76476  ...    0.37833    0.27383   \n",
       "3        0.67658     0.4671     0.6731    0.76476  ...    0.37833    0.27383   \n",
       "\n",
       "       Away_26_x  Away_26_y  Away_27_x  Away_27_y  Away_28_x  Away_28_y  \\\n",
       "Frame                                                                     \n",
       "1            NaN        NaN        NaN        NaN        NaN        NaN   \n",
       "2            NaN        NaN        NaN        NaN        NaN        NaN   \n",
       "3            NaN        NaN        NaN        NaN        NaN        NaN   \n",
       "\n",
       "        ball_x   ball_y  \n",
       "Frame                    \n",
       "1      0.45472  0.38709  \n",
       "2      0.49645  0.40656  \n",
       "3      0.53716  0.42556  \n",
       "\n",
       "[3 rows x 32 columns]"
      ]
     },
     "execution_count": 6,
     "metadata": {},
     "output_type": "execute_result"
    }
   ],
   "source": [
    "tracking_away.head(3)"
   ]
  },
  {
   "cell_type": "markdown",
   "metadata": {},
   "source": [
    "Before any kind of analysis and visualisation, we'll convert the units of all the locations in the 3 dataframes from Metrica Sports units to metres:"
   ]
  },
  {
   "cell_type": "code",
   "execution_count": 7,
   "metadata": {},
   "outputs": [],
   "source": [
    "events = mio.to_metric_coordinates(events)\n",
    "tracking_home = mio.to_metric_coordinates(tracking_home)\n",
    "tracking_away = mio.to_metric_coordinates(tracking_away)"
   ]
  },
  {
   "cell_type": "markdown",
   "metadata": {},
   "source": [
    "### Data analysis and visualisation"
   ]
  },
  {
   "cell_type": "markdown",
   "metadata": {},
   "source": [
    "First of all, let's create a dataframe for all the shots taken in the match."
   ]
  },
  {
   "cell_type": "code",
   "execution_count": 8,
   "metadata": {},
   "outputs": [],
   "source": [
    "shots = events[events['Type'] == 'SHOT']"
   ]
  },
  {
   "cell_type": "markdown",
   "metadata": {},
   "source": [
    "Now, let's have a look at the data of the shots which ended up as goals."
   ]
  },
  {
   "cell_type": "code",
   "execution_count": 9,
   "metadata": {},
   "outputs": [
    {
     "data": {
      "text/html": [
       "<div>\n",
       "<style scoped>\n",
       "    .dataframe tbody tr th:only-of-type {\n",
       "        vertical-align: middle;\n",
       "    }\n",
       "\n",
       "    .dataframe tbody tr th {\n",
       "        vertical-align: top;\n",
       "    }\n",
       "\n",
       "    .dataframe thead th {\n",
       "        text-align: right;\n",
       "    }\n",
       "</style>\n",
       "<table border=\"1\" class=\"dataframe\">\n",
       "  <thead>\n",
       "    <tr style=\"text-align: right;\">\n",
       "      <th></th>\n",
       "      <th>Team</th>\n",
       "      <th>Type</th>\n",
       "      <th>Subtype</th>\n",
       "      <th>Period</th>\n",
       "      <th>Start Frame</th>\n",
       "      <th>Start Time [s]</th>\n",
       "      <th>End Frame</th>\n",
       "      <th>End Time [s]</th>\n",
       "      <th>From</th>\n",
       "      <th>To</th>\n",
       "      <th>Start X</th>\n",
       "      <th>Start Y</th>\n",
       "      <th>End X</th>\n",
       "      <th>End Y</th>\n",
       "    </tr>\n",
       "  </thead>\n",
       "  <tbody>\n",
       "    <tr>\n",
       "      <th>34</th>\n",
       "      <td>Home</td>\n",
       "      <td>SHOT</td>\n",
       "      <td>HEAD-ON TARGET-GOAL</td>\n",
       "      <td>1</td>\n",
       "      <td>2289</td>\n",
       "      <td>91.56</td>\n",
       "      <td>2309</td>\n",
       "      <td>92.36</td>\n",
       "      <td>Player9</td>\n",
       "      <td>NaN</td>\n",
       "      <td>44.52</td>\n",
       "      <td>2.04</td>\n",
       "      <td>54.06</td>\n",
       "      <td>-3.40</td>\n",
       "    </tr>\n",
       "    <tr>\n",
       "      <th>1114</th>\n",
       "      <td>Home</td>\n",
       "      <td>SHOT</td>\n",
       "      <td>ON TARGET-GOAL</td>\n",
       "      <td>2</td>\n",
       "      <td>90005</td>\n",
       "      <td>3600.20</td>\n",
       "      <td>90026</td>\n",
       "      <td>3601.04</td>\n",
       "      <td>Player10</td>\n",
       "      <td>NaN</td>\n",
       "      <td>-44.52</td>\n",
       "      <td>12.92</td>\n",
       "      <td>-53.00</td>\n",
       "      <td>-2.72</td>\n",
       "    </tr>\n",
       "    <tr>\n",
       "      <th>1213</th>\n",
       "      <td>Home</td>\n",
       "      <td>SHOT</td>\n",
       "      <td>ON TARGET-GOAL</td>\n",
       "      <td>2</td>\n",
       "      <td>99032</td>\n",
       "      <td>3961.28</td>\n",
       "      <td>99046</td>\n",
       "      <td>3961.84</td>\n",
       "      <td>Player9</td>\n",
       "      <td>NaN</td>\n",
       "      <td>-50.88</td>\n",
       "      <td>-2.72</td>\n",
       "      <td>-54.06</td>\n",
       "      <td>-0.68</td>\n",
       "    </tr>\n",
       "  </tbody>\n",
       "</table>\n",
       "</div>"
      ],
      "text/plain": [
       "      Team  Type              Subtype  Period  Start Frame  Start Time [s]  \\\n",
       "34    Home  SHOT  HEAD-ON TARGET-GOAL       1         2289           91.56   \n",
       "1114  Home  SHOT       ON TARGET-GOAL       2        90005         3600.20   \n",
       "1213  Home  SHOT       ON TARGET-GOAL       2        99032         3961.28   \n",
       "\n",
       "      End Frame  End Time [s]      From   To  Start X  Start Y  End X  End Y  \n",
       "34         2309         92.36   Player9  NaN    44.52     2.04  54.06  -3.40  \n",
       "1114      90026       3601.04  Player10  NaN   -44.52    12.92 -53.00  -2.72  \n",
       "1213      99046       3961.84   Player9  NaN   -50.88    -2.72 -54.06  -0.68  "
      ]
     },
     "execution_count": 9,
     "metadata": {},
     "output_type": "execute_result"
    }
   ],
   "source": [
    "shots[shots['Subtype'].str.contains('-GOAL')]"
   ]
  },
  {
   "cell_type": "markdown",
   "metadata": {},
   "source": [
    "For further analysis and visualisation, we'll select the second goal scored in the match (with index number = 1114). Let's save that goal's index number for future use."
   ]
  },
  {
   "cell_type": "code",
   "execution_count": 10,
   "metadata": {},
   "outputs": [],
   "source": [
    "goal_index = 1114"
   ]
  },
  {
   "cell_type": "markdown",
   "metadata": {},
   "source": [
    "Let's have a look at the last 10 events leading to this goal."
   ]
  },
  {
   "cell_type": "code",
   "execution_count": 11,
   "metadata": {},
   "outputs": [
    {
     "data": {
      "text/html": [
       "<div>\n",
       "<style scoped>\n",
       "    .dataframe tbody tr th:only-of-type {\n",
       "        vertical-align: middle;\n",
       "    }\n",
       "\n",
       "    .dataframe tbody tr th {\n",
       "        vertical-align: top;\n",
       "    }\n",
       "\n",
       "    .dataframe thead th {\n",
       "        text-align: right;\n",
       "    }\n",
       "</style>\n",
       "<table border=\"1\" class=\"dataframe\">\n",
       "  <thead>\n",
       "    <tr style=\"text-align: right;\">\n",
       "      <th></th>\n",
       "      <th>Team</th>\n",
       "      <th>Type</th>\n",
       "      <th>Subtype</th>\n",
       "      <th>Period</th>\n",
       "      <th>Start Frame</th>\n",
       "      <th>Start Time [s]</th>\n",
       "      <th>End Frame</th>\n",
       "      <th>End Time [s]</th>\n",
       "      <th>From</th>\n",
       "      <th>To</th>\n",
       "      <th>Start X</th>\n",
       "      <th>Start Y</th>\n",
       "      <th>End X</th>\n",
       "      <th>End Y</th>\n",
       "    </tr>\n",
       "  </thead>\n",
       "  <tbody>\n",
       "    <tr>\n",
       "      <th>1104</th>\n",
       "      <td>Home</td>\n",
       "      <td>PASS</td>\n",
       "      <td>NaN</td>\n",
       "      <td>2</td>\n",
       "      <td>89622</td>\n",
       "      <td>3584.88</td>\n",
       "      <td>89652</td>\n",
       "      <td>3586.08</td>\n",
       "      <td>Player7</td>\n",
       "      <td>Player5</td>\n",
       "      <td>-40.28</td>\n",
       "      <td>31.28</td>\n",
       "      <td>-42.40</td>\n",
       "      <td>17.68</td>\n",
       "    </tr>\n",
       "    <tr>\n",
       "      <th>1105</th>\n",
       "      <td>Home</td>\n",
       "      <td>PASS</td>\n",
       "      <td>NaN</td>\n",
       "      <td>2</td>\n",
       "      <td>89691</td>\n",
       "      <td>3587.64</td>\n",
       "      <td>89726</td>\n",
       "      <td>3589.04</td>\n",
       "      <td>Player5</td>\n",
       "      <td>Player7</td>\n",
       "      <td>-44.52</td>\n",
       "      <td>21.76</td>\n",
       "      <td>-34.98</td>\n",
       "      <td>28.56</td>\n",
       "    </tr>\n",
       "    <tr>\n",
       "      <th>1106</th>\n",
       "      <td>Home</td>\n",
       "      <td>PASS</td>\n",
       "      <td>NaN</td>\n",
       "      <td>2</td>\n",
       "      <td>89726</td>\n",
       "      <td>3589.04</td>\n",
       "      <td>89758</td>\n",
       "      <td>3590.32</td>\n",
       "      <td>Player7</td>\n",
       "      <td>Player2</td>\n",
       "      <td>-34.98</td>\n",
       "      <td>28.56</td>\n",
       "      <td>-20.14</td>\n",
       "      <td>22.44</td>\n",
       "    </tr>\n",
       "    <tr>\n",
       "      <th>1107</th>\n",
       "      <td>Home</td>\n",
       "      <td>BALL LOST</td>\n",
       "      <td>CROSS-INTERCEPTION</td>\n",
       "      <td>2</td>\n",
       "      <td>89802</td>\n",
       "      <td>3592.08</td>\n",
       "      <td>89835</td>\n",
       "      <td>3593.40</td>\n",
       "      <td>Player2</td>\n",
       "      <td>NaN</td>\n",
       "      <td>-26.50</td>\n",
       "      <td>23.12</td>\n",
       "      <td>-45.58</td>\n",
       "      <td>6.12</td>\n",
       "    </tr>\n",
       "    <tr>\n",
       "      <th>1108</th>\n",
       "      <td>Away</td>\n",
       "      <td>RECOVERY</td>\n",
       "      <td>INTERCEPTION</td>\n",
       "      <td>2</td>\n",
       "      <td>89832</td>\n",
       "      <td>3593.28</td>\n",
       "      <td>89832</td>\n",
       "      <td>3593.28</td>\n",
       "      <td>Player16</td>\n",
       "      <td>NaN</td>\n",
       "      <td>-44.52</td>\n",
       "      <td>3.40</td>\n",
       "      <td>NaN</td>\n",
       "      <td>NaN</td>\n",
       "    </tr>\n",
       "    <tr>\n",
       "      <th>1109</th>\n",
       "      <td>Away</td>\n",
       "      <td>BALL LOST</td>\n",
       "      <td>HEAD-CLEARANCE</td>\n",
       "      <td>2</td>\n",
       "      <td>89832</td>\n",
       "      <td>3593.28</td>\n",
       "      <td>89871</td>\n",
       "      <td>3594.84</td>\n",
       "      <td>Player16</td>\n",
       "      <td>NaN</td>\n",
       "      <td>-44.52</td>\n",
       "      <td>3.40</td>\n",
       "      <td>-36.04</td>\n",
       "      <td>21.76</td>\n",
       "    </tr>\n",
       "    <tr>\n",
       "      <th>1110</th>\n",
       "      <td>Home</td>\n",
       "      <td>RECOVERY</td>\n",
       "      <td>NaN</td>\n",
       "      <td>2</td>\n",
       "      <td>89875</td>\n",
       "      <td>3595.00</td>\n",
       "      <td>89875</td>\n",
       "      <td>3595.00</td>\n",
       "      <td>Player5</td>\n",
       "      <td>NaN</td>\n",
       "      <td>-36.04</td>\n",
       "      <td>21.76</td>\n",
       "      <td>NaN</td>\n",
       "      <td>NaN</td>\n",
       "    </tr>\n",
       "    <tr>\n",
       "      <th>1111</th>\n",
       "      <td>Home</td>\n",
       "      <td>PASS</td>\n",
       "      <td>HEAD</td>\n",
       "      <td>2</td>\n",
       "      <td>89875</td>\n",
       "      <td>3595.00</td>\n",
       "      <td>89900</td>\n",
       "      <td>3596.00</td>\n",
       "      <td>Player5</td>\n",
       "      <td>Player10</td>\n",
       "      <td>-36.04</td>\n",
       "      <td>21.76</td>\n",
       "      <td>-33.92</td>\n",
       "      <td>10.88</td>\n",
       "    </tr>\n",
       "    <tr>\n",
       "      <th>1112</th>\n",
       "      <td>Home</td>\n",
       "      <td>PASS</td>\n",
       "      <td>NaN</td>\n",
       "      <td>2</td>\n",
       "      <td>89955</td>\n",
       "      <td>3598.20</td>\n",
       "      <td>89967</td>\n",
       "      <td>3598.68</td>\n",
       "      <td>Player10</td>\n",
       "      <td>Player5</td>\n",
       "      <td>-34.98</td>\n",
       "      <td>12.24</td>\n",
       "      <td>-37.10</td>\n",
       "      <td>16.32</td>\n",
       "    </tr>\n",
       "    <tr>\n",
       "      <th>1113</th>\n",
       "      <td>Home</td>\n",
       "      <td>PASS</td>\n",
       "      <td>NaN</td>\n",
       "      <td>2</td>\n",
       "      <td>89978</td>\n",
       "      <td>3599.12</td>\n",
       "      <td>90005</td>\n",
       "      <td>3600.20</td>\n",
       "      <td>Player5</td>\n",
       "      <td>Player10</td>\n",
       "      <td>-37.10</td>\n",
       "      <td>16.32</td>\n",
       "      <td>-44.52</td>\n",
       "      <td>12.92</td>\n",
       "    </tr>\n",
       "    <tr>\n",
       "      <th>1114</th>\n",
       "      <td>Home</td>\n",
       "      <td>SHOT</td>\n",
       "      <td>ON TARGET-GOAL</td>\n",
       "      <td>2</td>\n",
       "      <td>90005</td>\n",
       "      <td>3600.20</td>\n",
       "      <td>90026</td>\n",
       "      <td>3601.04</td>\n",
       "      <td>Player10</td>\n",
       "      <td>NaN</td>\n",
       "      <td>-44.52</td>\n",
       "      <td>12.92</td>\n",
       "      <td>-53.00</td>\n",
       "      <td>-2.72</td>\n",
       "    </tr>\n",
       "  </tbody>\n",
       "</table>\n",
       "</div>"
      ],
      "text/plain": [
       "      Team       Type             Subtype  Period  Start Frame  \\\n",
       "1104  Home       PASS                 NaN       2        89622   \n",
       "1105  Home       PASS                 NaN       2        89691   \n",
       "1106  Home       PASS                 NaN       2        89726   \n",
       "1107  Home  BALL LOST  CROSS-INTERCEPTION       2        89802   \n",
       "1108  Away   RECOVERY        INTERCEPTION       2        89832   \n",
       "1109  Away  BALL LOST      HEAD-CLEARANCE       2        89832   \n",
       "1110  Home   RECOVERY                 NaN       2        89875   \n",
       "1111  Home       PASS                HEAD       2        89875   \n",
       "1112  Home       PASS                 NaN       2        89955   \n",
       "1113  Home       PASS                 NaN       2        89978   \n",
       "1114  Home       SHOT      ON TARGET-GOAL       2        90005   \n",
       "\n",
       "      Start Time [s]  End Frame  End Time [s]      From        To  Start X  \\\n",
       "1104         3584.88      89652       3586.08   Player7   Player5   -40.28   \n",
       "1105         3587.64      89726       3589.04   Player5   Player7   -44.52   \n",
       "1106         3589.04      89758       3590.32   Player7   Player2   -34.98   \n",
       "1107         3592.08      89835       3593.40   Player2       NaN   -26.50   \n",
       "1108         3593.28      89832       3593.28  Player16       NaN   -44.52   \n",
       "1109         3593.28      89871       3594.84  Player16       NaN   -44.52   \n",
       "1110         3595.00      89875       3595.00   Player5       NaN   -36.04   \n",
       "1111         3595.00      89900       3596.00   Player5  Player10   -36.04   \n",
       "1112         3598.20      89967       3598.68  Player10   Player5   -34.98   \n",
       "1113         3599.12      90005       3600.20   Player5  Player10   -37.10   \n",
       "1114         3600.20      90026       3601.04  Player10       NaN   -44.52   \n",
       "\n",
       "      Start Y  End X  End Y  \n",
       "1104    31.28 -42.40  17.68  \n",
       "1105    21.76 -34.98  28.56  \n",
       "1106    28.56 -20.14  22.44  \n",
       "1107    23.12 -45.58   6.12  \n",
       "1108     3.40    NaN    NaN  \n",
       "1109     3.40 -36.04  21.76  \n",
       "1110    21.76    NaN    NaN  \n",
       "1111    21.76 -33.92  10.88  \n",
       "1112    12.24 -37.10  16.32  \n",
       "1113    16.32 -44.52  12.92  \n",
       "1114    12.92 -53.00  -2.72  "
      ]
     },
     "execution_count": 11,
     "metadata": {},
     "output_type": "execute_result"
    }
   ],
   "source": [
    "events.loc[goal_index-10:goal_index]"
   ]
  },
  {
   "cell_type": "markdown",
   "metadata": {},
   "source": [
    "Here, we can see that the ball was recovered in the event with index number = 1110, and the passing movement to our selected goal began in the event with index number = 1111. Let's save the index number of the event in which this passing movement began for future use."
   ]
  },
  {
   "cell_type": "code",
   "execution_count": 12,
   "metadata": {},
   "outputs": [],
   "source": [
    "pass_move_start_index = 1111"
   ]
  },
  {
   "cell_type": "markdown",
   "metadata": {},
   "source": [
    "We'll also save frame numbers of the events when the passing movement began and the goal was scored, for future use."
   ]
  },
  {
   "cell_type": "code",
   "execution_count": 13,
   "metadata": {},
   "outputs": [],
   "source": [
    "goal_frame = events.loc[goal_index]['Start Frame'] # saving the frame number of this goal scoring event\n",
    "pass_move_start_frame = events.loc[pass_move_start_index]['Start Frame'] # saving the frame number of the event in which the passing movement began"
   ]
  },
  {
   "cell_type": "markdown",
   "metadata": {},
   "source": [
    "Let's achieve our targets one-by-one:"
   ]
  },
  {
   "cell_type": "markdown",
   "metadata": {},
   "source": [
    "__1. Plot one of the goals scored__\n",
    "\n",
    "Let's plot the goal we have selected (annotation format - *EVENT_TYPE: PLAYER_KIT_NUMBER*)."
   ]
  },
  {
   "cell_type": "code",
   "execution_count": 14,
   "metadata": {},
   "outputs": [
    {
     "data": {
      "image/png": "[encoded data removed]",
      "text/plain": [
       "<Figure size 864x576 with 1 Axes>"
      ]
     },
     "metadata": {},
     "output_type": "display_data"
    }
   ],
   "source": [
    "fig, ax = mviz.plot_events(events.loc[goal_index:goal_index], indicators=['Marker','Arrow'], annotate=True)"
   ]
  },
  {
   "cell_type": "markdown",
   "metadata": {},
   "source": [
    "__2. Plot the passes leading up to that goal.__\n",
    "\n",
    "Now, we'll plot the passes leading up to this goal (with annotations)."
   ]
  },
  {
   "cell_type": "code",
   "execution_count": 15,
   "metadata": {},
   "outputs": [
    {
     "data": {
      "image/png": "[encoded data removed]",
      "text/plain": [
       "<Figure size 864x576 with 1 Axes>"
      ]
     },
     "metadata": {},
     "output_type": "display_data"
    }
   ],
   "source": [
    "fig, ax = mviz.plot_events(events.loc[pass_move_start_index:goal_index], indicators=['Marker','Arrow'], annotate=True)"
   ]
  },
  {
   "cell_type": "markdown",
   "metadata": {},
   "source": [
    "Till now, we were using the event data for our visualisations. Now, let's also use the tracking data for creating some visualisations."
   ]
  },
  {
   "cell_type": "markdown",
   "metadata": {},
   "source": [
    "__3. Plot the positions of all the players (from both the teams) when this goal was scored.__\n",
    "\n",
    "We will use the tracking data along with the event data to plot the positions of all the players when this goal was scored."
   ]
  },
  {
   "cell_type": "code",
   "execution_count": 16,
   "metadata": {},
   "outputs": [
    {
     "name": "stderr",
     "output_type": "stream",
     "text": [
      "D:\\friends-of-tracking\\modules\\Metrica_Viz.py:141: MatplotlibDeprecationWarning: Case-insensitive properties were deprecated in 3.3 and support will be removed two minor releases later\n",
      "  ax.plot( team[x_columns], team[y_columns], color+'o', MarkerSize=PlayerMarkerSize, alpha=PlayerAlpha ) # plot player positions\n",
      "D:\\friends-of-tracking\\modules\\Metrica_Viz.py:141: MatplotlibDeprecationWarning: Case-insensitive properties were deprecated in 3.3 and support will be removed two minor releases later\n",
      "  ax.plot( team[x_columns], team[y_columns], color+'o', MarkerSize=PlayerMarkerSize, alpha=PlayerAlpha ) # plot player positions\n",
      "D:\\friends-of-tracking\\modules\\Metrica_Viz.py:149: MatplotlibDeprecationWarning: Case-insensitive properties were deprecated in 3.3 and support will be removed two minor releases later\n",
      "  ax.plot( hometeam['ball_x'], hometeam['ball_y'], 'ko', MarkerSize=6, alpha=1.0, LineWidth=0)\n"
     ]
    },
    {
     "data": {
      "image/png": "[encoded data removed]",
      "text/plain": [
       "<Figure size 864x576 with 1 Axes>"
      ]
     },
     "metadata": {},
     "output_type": "display_data"
    }
   ],
   "source": [
    "fig, ax = mviz.plot_events( events.loc[goal_index:goal_index], indicators = ['Marker','Arrow'], annotate=True) # plotting the goal event\n",
    "fig, ax = mviz.plot_frame(tracking_home.loc[goal_frame], tracking_away.loc[goal_frame], figax=(fig, ax)) # plotting player positions when this goal was scored"
   ]
  },
  {
   "cell_type": "markdown",
   "metadata": {},
   "source": [
    "__4. Plot the movements of players involved in this goal.__\n",
    "\n",
    "Finally, let's plot the movements of the players involved in this goal right from the moment the ball was recovered.\n",
    "\n",
    "In the second plot above, we saw that Player #5 and Player #10 were involved in the passing movement that led to the goal. Therefore, we'll plot their trajectories (movements) in this plot along with the passes they made.\n",
    "\n",
    "* Annotation format - *PLAYER_KIT_NUMBER*"
   ]
  },
  {
   "cell_type": "code",
   "execution_count": 17,
   "metadata": {},
   "outputs": [
    {
     "name": "stderr",
     "output_type": "stream",
     "text": [
      "c:\\users\\hp\\appdata\\local\\programs\\python\\python37\\lib\\site-packages\\ipykernel_launcher.py:2: MatplotlibDeprecationWarning: Case-insensitive properties were deprecated in 3.3 and support will be removed two minor releases later\n",
      "  \n",
      "c:\\users\\hp\\appdata\\local\\programs\\python\\python37\\lib\\site-packages\\ipykernel_launcher.py:3: MatplotlibDeprecationWarning: Case-insensitive properties were deprecated in 3.3 and support will be removed two minor releases later\n",
      "  This is separate from the ipykernel package so we can avoid doing imports until\n"
     ]
    },
    {
     "data": {
      "text/plain": [
       "[<matplotlib.lines.Line2D at 0x1803087e148>]"
      ]
     },
     "execution_count": 17,
     "metadata": {},
     "output_type": "execute_result"
    },
    {
     "data": {
      "image/png": "[encoded data removed]",
      "text/plain": [
       "<Figure size 864x576 with 1 Axes>"
      ]
     },
     "metadata": {},
     "output_type": "display_data"
    }
   ],
   "source": [
    "fig, ax = mviz.plot_events(events.loc[pass_move_start_index:goal_index], indicators=['Marker','Arrow'], annotate=True, remove_type_from_annotation=True)\n",
    "ax.plot( tracking_home['Home_5_x'].loc[pass_move_start_frame:goal_frame], tracking_home['Home_5_y'].loc[pass_move_start_frame:goal_frame], 'b.', MarkerSize=1)\n",
    "ax.plot( tracking_home['Home_10_x'].loc[pass_move_start_frame:goal_frame], tracking_home['Home_10_y'].loc[pass_move_start_frame:goal_frame], 'b.', MarkerSize=1)"
   ]
  },
  {
   "cell_type": "markdown",
   "metadata": {},
   "source": [
    "The final pass (also, the assist) that Player #5 made seems really important along with Player #10's crucial run, which seems to be a run through the opposition defense line. Such key passes and intelligent runs require proper understanding and communication among the players involved."
   ]
  },
  {
   "cell_type": "code",
   "execution_count": null,
   "metadata": {},
   "outputs": [],
   "source": []
  }
 ],
 "metadata": {
  "kernelspec": {
   "display_name": "Python 3",
   "language": "python",
   "name": "python3"
  },
  "language_info": {
   "codemirror_mode": {
    "name": "ipython",
    "version": 3
   },
   "file_extension": ".py",
   "mimetype": "text/x-python",
   "name": "python",
   "nbconvert_exporter": "python",
   "pygments_lexer": "ipython3",
   "version": "3.7.9"
  }
 },
 "nbformat": 4,
 "nbformat_minor": 4
}
