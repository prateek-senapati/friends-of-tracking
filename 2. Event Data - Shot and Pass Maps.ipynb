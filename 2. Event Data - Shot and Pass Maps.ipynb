{
 "cells": [
  {
   "cell_type": "markdown",
   "metadata": {},
   "source": [
    "# Shot and pass maps using StatsBomb event data"
   ]
  },
  {
   "cell_type": "markdown",
   "metadata": {},
   "source": [
    "### Import libraries and modules"
   ]
  },
  {
   "cell_type": "code",
   "execution_count": 1,
   "metadata": {},
   "outputs": [],
   "source": [
    "import matplotlib.pyplot as plt\n",
    "import numpy as np\n",
    "from modules.FCPython import createPitch # the FCPython module is used to create football specific plots\n",
    "import json\n",
    "import pandas as pd"
   ]
  },
  {
   "cell_type": "code",
   "execution_count": 2,
   "metadata": {},
   "outputs": [],
   "source": [
    "# initialising the pitch dimension variables for future use \n",
    "pitch_len_x = 120 # pitch length value in yards\n",
    "pitch_len_y = 80 # pitch width value in yards"
   ]
  },
  {
   "cell_type": "code",
   "execution_count": 3,
   "metadata": {},
   "outputs": [],
   "source": [
    "match = 'UEFA CL Final 2011' # match name\n",
    "player_name = 'Xavi Hernandez' # target player's name"
   ]
  },
  {
   "cell_type": "markdown",
   "metadata": {},
   "source": [
    "### Load in the event data"
   ]
  },
  {
   "cell_type": "markdown",
   "metadata": {},
   "source": [
    "I'd like to plot the shot map of the UEFA Champions League 2010-11 Final between FC Barcelona and Manchester United. After this, I'd also like to plot the pass map of Xavi Hernandez in the same match."
   ]
  },
  {
   "cell_type": "markdown",
   "metadata": {},
   "source": [
    "First of all, I'd need to find the match ID of this match in order to get its event data. Let's find the match ID."
   ]
  },
  {
   "cell_type": "code",
   "execution_count": 4,
   "metadata": {},
   "outputs": [],
   "source": [
    "# loading in the competition data\n",
    "with open('SoccermaticsForPython-master/StatsBomb/data/competitions.json') as f:\n",
    "    competitions = json.load(f)"
   ]
  },
  {
   "cell_type": "code",
   "execution_count": 5,
   "metadata": {},
   "outputs": [],
   "source": [
    "# finding the competition id and season id of UEFA Champions League 2010-11 to help fetch match data from this competition\n",
    "for competition in competitions:\n",
    "    if (competition['competition_name'] == 'Champions League') and (competition['season_name'] == '2010/2011'):\n",
    "        competition_id = competition['competition_id']\n",
    "        season_id = competition['season_id']\n",
    "        break"
   ]
  },
  {
   "cell_type": "code",
   "execution_count": 6,
   "metadata": {},
   "outputs": [],
   "source": [
    "# loading in UEFA Champions League 2010-11 match data\n",
    "match_data_location = f''\n",
    "with open('SoccermaticsForPython-master/StatsBomb/data/matches/' + str(competition_id) + '/' + str(season_id) + '.json', encoding='utf8') as f:\n",
    "    matches = json.load(f)"
   ]
  },
  {
   "cell_type": "code",
   "execution_count": 7,
   "metadata": {},
   "outputs": [
    {
     "data": {
      "text/plain": [
       "1"
      ]
     },
     "execution_count": 7,
     "metadata": {},
     "output_type": "execute_result"
    }
   ],
   "source": [
    "# finding the number of matches whose data is present in the match data\n",
    "len(matches)"
   ]
  },
  {
   "cell_type": "markdown",
   "metadata": {},
   "source": [
    "Let's observe this single match's data."
   ]
  },
  {
   "cell_type": "code",
   "execution_count": 8,
   "metadata": {},
   "outputs": [
    {
     "data": {
      "text/plain": [
       "[{'match_id': 18236,\n",
       "  'match_date': '2011-05-28',\n",
       "  'kick_off': '20:45:00.000',\n",
       "  'competition': {'competition_id': 16,\n",
       "   'country_name': 'Europe',\n",
       "   'competition_name': 'Champions League'},\n",
       "  'season': {'season_id': 22, 'season_name': '2010/2011'},\n",
       "  'home_team': {'home_team_id': 217,\n",
       "   'home_team_name': 'Barcelona',\n",
       "   'home_team_gender': 'male',\n",
       "   'home_team_group': None,\n",
       "   'country': {'id': 214, 'name': 'Spain'},\n",
       "   'managers': [{'id': 36,\n",
       "     'name': 'Josep Guardiola i Sala',\n",
       "     'nickname': 'Pep Guardiola',\n",
       "     'dob': None,\n",
       "     'country': {'id': 214, 'name': 'Spain'}}]},\n",
       "  'away_team': {'away_team_id': 39,\n",
       "   'away_team_name': 'Manchester United',\n",
       "   'away_team_gender': 'male',\n",
       "   'away_team_group': None,\n",
       "   'country': {'id': 68, 'name': 'England'},\n",
       "   'managers': [{'id': 790,\n",
       "     'name': 'Alex Ferguson',\n",
       "     'nickname': None,\n",
       "     'dob': '2041-12-31',\n",
       "     'country': {'id': 201, 'name': 'Scotland'}}]},\n",
       "  'home_score': 3,\n",
       "  'away_score': 1,\n",
       "  'match_status': 'available',\n",
       "  'last_updated': '2020-07-29T05:00',\n",
       "  'metadata': {'data_version': '1.0.3'},\n",
       "  'match_week': 1,\n",
       "  'competition_stage': {'id': 26, 'name': 'Final'},\n",
       "  'stadium': {'id': 4666,\n",
       "   'name': 'Wembley Stadium',\n",
       "   'country': {'id': 68, 'name': 'England'}},\n",
       "  'referee': {'id': 449,\n",
       "   'name': 'V. Kassai',\n",
       "   'country': {'id': 103, 'name': 'Hungary'}}}]"
      ]
     },
     "execution_count": 8,
     "metadata": {},
     "output_type": "execute_result"
    }
   ],
   "source": [
    "matches"
   ]
  },
  {
   "cell_type": "markdown",
   "metadata": {},
   "source": [
    "A careful look into the match data reveals that this single match's data is from the final itself. This means that we can further find the event data that we need. Let's store this match's match ID which we will use to fetch the event data."
   ]
  },
  {
   "cell_type": "code",
   "execution_count": 9,
   "metadata": {},
   "outputs": [
    {
     "data": {
      "text/plain": [
       "18236"
      ]
     },
     "execution_count": 9,
     "metadata": {},
     "output_type": "execute_result"
    }
   ],
   "source": [
    "match_id = matches[0]['match_id']\n",
    "match_id"
   ]
  },
  {
   "cell_type": "code",
   "execution_count": 10,
   "metadata": {},
   "outputs": [],
   "source": [
    "# loading in the event data for the UEFA Champions League 2010-11 Final and storing it into a dataframe\n",
    "with open('SoccermaticsForPython-master/StatsBomb/data/events/' + str(match_id) + '.json') as f:\n",
    "    events = json.load(f)\n",
    "df = pd.json_normalize(events, sep='_') # json_normalize() flattens nested JSON data into a dataframe"
   ]
  },
  {
   "cell_type": "code",
   "execution_count": 11,
   "metadata": {},
   "outputs": [
    {
     "data": {
      "text/html": [
       "<div>\n",
       "<style scoped>\n",
       "    .dataframe tbody tr th:only-of-type {\n",
       "        vertical-align: middle;\n",
       "    }\n",
       "\n",
       "    .dataframe tbody tr th {\n",
       "        vertical-align: top;\n",
       "    }\n",
       "\n",
       "    .dataframe thead th {\n",
       "        text-align: right;\n",
       "    }\n",
       "</style>\n",
       "<table border=\"1\" class=\"dataframe\">\n",
       "  <thead>\n",
       "    <tr style=\"text-align: right;\">\n",
       "      <th></th>\n",
       "      <th>id</th>\n",
       "      <th>index</th>\n",
       "      <th>period</th>\n",
       "      <th>timestamp</th>\n",
       "      <th>minute</th>\n",
       "      <th>second</th>\n",
       "      <th>possession</th>\n",
       "      <th>duration</th>\n",
       "      <th>type_id</th>\n",
       "      <th>type_name</th>\n",
       "      <th>...</th>\n",
       "      <th>substitution_outcome_id</th>\n",
       "      <th>substitution_outcome_name</th>\n",
       "      <th>substitution_replacement_id</th>\n",
       "      <th>substitution_replacement_name</th>\n",
       "      <th>foul_committed_type_id</th>\n",
       "      <th>foul_committed_type_name</th>\n",
       "      <th>bad_behaviour_card_id</th>\n",
       "      <th>bad_behaviour_card_name</th>\n",
       "      <th>foul_committed_advantage</th>\n",
       "      <th>foul_won_advantage</th>\n",
       "    </tr>\n",
       "  </thead>\n",
       "  <tbody>\n",
       "    <tr>\n",
       "      <th>0</th>\n",
       "      <td>9bc6b543-e113-48b2-8845-b92dd20ba093</td>\n",
       "      <td>1</td>\n",
       "      <td>1</td>\n",
       "      <td>00:00:00.000</td>\n",
       "      <td>0</td>\n",
       "      <td>0</td>\n",
       "      <td>1</td>\n",
       "      <td>0.0</td>\n",
       "      <td>35</td>\n",
       "      <td>Starting XI</td>\n",
       "      <td>...</td>\n",
       "      <td>NaN</td>\n",
       "      <td>NaN</td>\n",
       "      <td>NaN</td>\n",
       "      <td>NaN</td>\n",
       "      <td>NaN</td>\n",
       "      <td>NaN</td>\n",
       "      <td>NaN</td>\n",
       "      <td>NaN</td>\n",
       "      <td>NaN</td>\n",
       "      <td>NaN</td>\n",
       "    </tr>\n",
       "    <tr>\n",
       "      <th>1</th>\n",
       "      <td>23386123-8e23-4e40-a29b-c25a0ca0d557</td>\n",
       "      <td>2</td>\n",
       "      <td>1</td>\n",
       "      <td>00:00:00.000</td>\n",
       "      <td>0</td>\n",
       "      <td>0</td>\n",
       "      <td>1</td>\n",
       "      <td>0.0</td>\n",
       "      <td>35</td>\n",
       "      <td>Starting XI</td>\n",
       "      <td>...</td>\n",
       "      <td>NaN</td>\n",
       "      <td>NaN</td>\n",
       "      <td>NaN</td>\n",
       "      <td>NaN</td>\n",
       "      <td>NaN</td>\n",
       "      <td>NaN</td>\n",
       "      <td>NaN</td>\n",
       "      <td>NaN</td>\n",
       "      <td>NaN</td>\n",
       "      <td>NaN</td>\n",
       "    </tr>\n",
       "    <tr>\n",
       "      <th>2</th>\n",
       "      <td>4ebb282f-b0ff-4a70-9102-8b2699c58ccc</td>\n",
       "      <td>3</td>\n",
       "      <td>1</td>\n",
       "      <td>00:00:00.000</td>\n",
       "      <td>0</td>\n",
       "      <td>0</td>\n",
       "      <td>1</td>\n",
       "      <td>0.0</td>\n",
       "      <td>18</td>\n",
       "      <td>Half Start</td>\n",
       "      <td>...</td>\n",
       "      <td>NaN</td>\n",
       "      <td>NaN</td>\n",
       "      <td>NaN</td>\n",
       "      <td>NaN</td>\n",
       "      <td>NaN</td>\n",
       "      <td>NaN</td>\n",
       "      <td>NaN</td>\n",
       "      <td>NaN</td>\n",
       "      <td>NaN</td>\n",
       "      <td>NaN</td>\n",
       "    </tr>\n",
       "  </tbody>\n",
       "</table>\n",
       "<p>3 rows × 100 columns</p>\n",
       "</div>"
      ],
      "text/plain": [
       "                                     id  index  period     timestamp  minute  \\\n",
       "0  9bc6b543-e113-48b2-8845-b92dd20ba093      1       1  00:00:00.000       0   \n",
       "1  23386123-8e23-4e40-a29b-c25a0ca0d557      2       1  00:00:00.000       0   \n",
       "2  4ebb282f-b0ff-4a70-9102-8b2699c58ccc      3       1  00:00:00.000       0   \n",
       "\n",
       "   second  possession  duration  type_id    type_name  ...  \\\n",
       "0       0           1       0.0       35  Starting XI  ...   \n",
       "1       0           1       0.0       35  Starting XI  ...   \n",
       "2       0           1       0.0       18   Half Start  ...   \n",
       "\n",
       "   substitution_outcome_id substitution_outcome_name  \\\n",
       "0                      NaN                       NaN   \n",
       "1                      NaN                       NaN   \n",
       "2                      NaN                       NaN   \n",
       "\n",
       "   substitution_replacement_id substitution_replacement_name  \\\n",
       "0                          NaN                           NaN   \n",
       "1                          NaN                           NaN   \n",
       "2                          NaN                           NaN   \n",
       "\n",
       "   foul_committed_type_id foul_committed_type_name  bad_behaviour_card_id  \\\n",
       "0                     NaN                      NaN                    NaN   \n",
       "1                     NaN                      NaN                    NaN   \n",
       "2                     NaN                      NaN                    NaN   \n",
       "\n",
       "  bad_behaviour_card_name foul_committed_advantage foul_won_advantage  \n",
       "0                     NaN                      NaN                NaN  \n",
       "1                     NaN                      NaN                NaN  \n",
       "2                     NaN                      NaN                NaN  \n",
       "\n",
       "[3 rows x 100 columns]"
      ]
     },
     "execution_count": 11,
     "metadata": {},
     "output_type": "execute_result"
    }
   ],
   "source": [
    "df.head(3)"
   ]
  },
  {
   "cell_type": "markdown",
   "metadata": {},
   "source": [
    "Let's have a look at the column headers to see what all information the event data holds."
   ]
  },
  {
   "cell_type": "code",
   "execution_count": 12,
   "metadata": {},
   "outputs": [
    {
     "data": {
      "text/plain": [
       "Index(['id', 'index', 'period', 'timestamp', 'minute', 'second', 'possession',\n",
       "       'duration', 'type_id', 'type_name', 'possession_team_id',\n",
       "       'possession_team_name', 'play_pattern_id', 'play_pattern_name',\n",
       "       'team_id', 'team_name', 'tactics_formation', 'tactics_lineup',\n",
       "       'related_events', 'location', 'player_id', 'player_name', 'position_id',\n",
       "       'position_name', 'pass_recipient_id', 'pass_recipient_name',\n",
       "       'pass_length', 'pass_angle', 'pass_height_id', 'pass_height_name',\n",
       "       'pass_end_location', 'pass_body_part_id', 'pass_body_part_name',\n",
       "       'pass_type_id', 'pass_type_name', 'carry_end_location', 'pass_backheel',\n",
       "       'pass_outcome_id', 'pass_outcome_name', 'ball_receipt_outcome_id',\n",
       "       'ball_receipt_outcome_name', 'under_pressure', 'duel_type_id',\n",
       "       'duel_type_name', 'duel_outcome_id', 'duel_outcome_name',\n",
       "       'counterpress', 'dribble_outcome_id', 'dribble_outcome_name',\n",
       "       'dribble_overrun', 'pass_cross', 'pass_switch', 'pass_aerial_won',\n",
       "       'interception_outcome_id', 'interception_outcome_name',\n",
       "       'pass_assisted_shot_id', 'pass_shot_assist', 'shot_statsbomb_xg',\n",
       "       'shot_end_location', 'shot_key_pass_id', 'shot_body_part_id',\n",
       "       'shot_body_part_name', 'shot_type_id', 'shot_type_name',\n",
       "       'shot_outcome_id', 'shot_outcome_name', 'shot_technique_id',\n",
       "       'shot_technique_name', 'shot_freeze_frame', 'goalkeeper_end_location',\n",
       "       'goalkeeper_position_id', 'goalkeeper_position_name',\n",
       "       'goalkeeper_type_id', 'goalkeeper_type_name', 'off_camera',\n",
       "       'goalkeeper_outcome_id', 'goalkeeper_outcome_name', 'shot_first_time',\n",
       "       'goalkeeper_technique_id', 'goalkeeper_technique_name',\n",
       "       'clearance_aerial_won', 'ball_recovery_offensive',\n",
       "       'ball_recovery_recovery_failure', 'goalkeeper_body_part_id',\n",
       "       'goalkeeper_body_part_name', 'pass_goal_assist', 'foul_won_defensive',\n",
       "       'block_save_block', 'foul_committed_card_id',\n",
       "       'foul_committed_card_name', 'substitution_outcome_id',\n",
       "       'substitution_outcome_name', 'substitution_replacement_id',\n",
       "       'substitution_replacement_name', 'foul_committed_type_id',\n",
       "       'foul_committed_type_name', 'bad_behaviour_card_id',\n",
       "       'bad_behaviour_card_name', 'foul_committed_advantage',\n",
       "       'foul_won_advantage'],\n",
       "      dtype='object')"
      ]
     },
     "execution_count": 12,
     "metadata": {},
     "output_type": "execute_result"
    }
   ],
   "source": [
    "df.columns"
   ]
  },
  {
   "cell_type": "markdown",
   "metadata": {},
   "source": [
    "Let's check out the different types of event we have in our event data."
   ]
  },
  {
   "cell_type": "code",
   "execution_count": 13,
   "metadata": {},
   "outputs": [
    {
     "data": {
      "text/plain": [
       "array(['Starting XI', 'Half Start', 'Pass', 'Ball Receipt*', 'Carry',\n",
       "       'Pressure', 'Dispossessed', 'Duel', 'Ball Recovery',\n",
       "       'Dribbled Past', 'Dribble', 'Tactical Shift', 'Interception',\n",
       "       'Block', 'Shot', 'Goal Keeper', 'Foul Committed', 'Foul Won',\n",
       "       'Miscontrol', 'Clearance', 'Shield', 'Referee Ball-Drop',\n",
       "       'Half End', 'Offside', 'Substitution', 'Bad Behaviour'],\n",
       "      dtype=object)"
      ]
     },
     "execution_count": 13,
     "metadata": {},
     "output_type": "execute_result"
    }
   ],
   "source": [
    "df['type_name'].unique()"
   ]
  },
  {
   "cell_type": "markdown",
   "metadata": {},
   "source": [
    "Let's also have a look at the list of all the players (from both the teams) in the event data."
   ]
  },
  {
   "cell_type": "code",
   "execution_count": 14,
   "metadata": {},
   "outputs": [
    {
     "data": {
      "text/plain": [
       "array([nan, 'Javier HernÃ¡ndez BalcÃ¡zar', 'Wayne Mark Rooney',\n",
       "       'Lionel AndrÃ©s Messi Cuccittini', 'Ryan Giggs',\n",
       "       'Luis Antonio Valencia Mosquera', 'Eric-Sylvain Bilal Abidal',\n",
       "       'Sergio Busquets i Burgos', 'Daniel Alves da Silva',\n",
       "       'Ji-Sung Park', 'Xavier HernÃ¡ndez Creus', 'Michael Carrick',\n",
       "       'VÃ\\xadctor ValdÃ©s Arribas', 'Javier Alejandro Mascherano',\n",
       "       'David Villa SÃ¡nchez', 'Patrice Evra', 'Nemanja VidiÄ‡',\n",
       "       'Rio Ferdinand', 'Edwin van der Sar', 'FÃ¡bio Pereira da Silva',\n",
       "       'AndrÃ©s Iniesta LujÃ¡n', 'Gerard PiquÃ© BernabÃ©u',\n",
       "       'Pedro Eliezer RodrÃ\\xadguez Ledesma',\n",
       "       'LuÃ\\xads Carlos Almeida da Cunha', 'Paul Scholes',\n",
       "       'Seydou KÃ©ita', 'Carles Puyol i Saforcada', 'Ibrahim Afellay'],\n",
       "      dtype=object)"
      ]
     },
     "execution_count": 14,
     "metadata": {},
     "output_type": "execute_result"
    }
   ],
   "source": [
    "df['player_name'].unique()"
   ]
  },
  {
   "cell_type": "markdown",
   "metadata": {},
   "source": [
    "### Shot map"
   ]
  },
  {
   "cell_type": "markdown",
   "metadata": {},
   "source": [
    "First of all, we will create a separate dataframe for all the shots."
   ]
  },
  {
   "cell_type": "code",
   "execution_count": 15,
   "metadata": {},
   "outputs": [],
   "source": [
    "condition = (df['type_name'] == 'Shot')\n",
    "shots = df[condition]"
   ]
  },
  {
   "cell_type": "code",
   "execution_count": 16,
   "metadata": {},
   "outputs": [
    {
     "data": {
      "text/html": [
       "<div>\n",
       "<style scoped>\n",
       "    .dataframe tbody tr th:only-of-type {\n",
       "        vertical-align: middle;\n",
       "    }\n",
       "\n",
       "    .dataframe tbody tr th {\n",
       "        vertical-align: top;\n",
       "    }\n",
       "\n",
       "    .dataframe thead th {\n",
       "        text-align: right;\n",
       "    }\n",
       "</style>\n",
       "<table border=\"1\" class=\"dataframe\">\n",
       "  <thead>\n",
       "    <tr style=\"text-align: right;\">\n",
       "      <th></th>\n",
       "      <th>id</th>\n",
       "      <th>index</th>\n",
       "      <th>period</th>\n",
       "      <th>timestamp</th>\n",
       "      <th>minute</th>\n",
       "      <th>second</th>\n",
       "      <th>possession</th>\n",
       "      <th>duration</th>\n",
       "      <th>type_id</th>\n",
       "      <th>type_name</th>\n",
       "      <th>...</th>\n",
       "      <th>substitution_outcome_id</th>\n",
       "      <th>substitution_outcome_name</th>\n",
       "      <th>substitution_replacement_id</th>\n",
       "      <th>substitution_replacement_name</th>\n",
       "      <th>foul_committed_type_id</th>\n",
       "      <th>foul_committed_type_name</th>\n",
       "      <th>bad_behaviour_card_id</th>\n",
       "      <th>bad_behaviour_card_name</th>\n",
       "      <th>foul_committed_advantage</th>\n",
       "      <th>foul_won_advantage</th>\n",
       "    </tr>\n",
       "  </thead>\n",
       "  <tbody>\n",
       "    <tr>\n",
       "      <th>139</th>\n",
       "      <td>2ed6738e-9be5-4de3-9b97-b9a8e835b086</td>\n",
       "      <td>140</td>\n",
       "      <td>1</td>\n",
       "      <td>00:02:47.553</td>\n",
       "      <td>2</td>\n",
       "      <td>47</td>\n",
       "      <td>11</td>\n",
       "      <td>0.2434</td>\n",
       "      <td>16</td>\n",
       "      <td>Shot</td>\n",
       "      <td>...</td>\n",
       "      <td>NaN</td>\n",
       "      <td>NaN</td>\n",
       "      <td>NaN</td>\n",
       "      <td>NaN</td>\n",
       "      <td>NaN</td>\n",
       "      <td>NaN</td>\n",
       "      <td>NaN</td>\n",
       "      <td>NaN</td>\n",
       "      <td>NaN</td>\n",
       "      <td>NaN</td>\n",
       "    </tr>\n",
       "    <tr>\n",
       "      <th>527</th>\n",
       "      <td>ec590ad9-0866-4b1b-b267-f2754e3e3ff5</td>\n",
       "      <td>528</td>\n",
       "      <td>1</td>\n",
       "      <td>00:10:05.546</td>\n",
       "      <td>10</td>\n",
       "      <td>5</td>\n",
       "      <td>28</td>\n",
       "      <td>0.1017</td>\n",
       "      <td>16</td>\n",
       "      <td>Shot</td>\n",
       "      <td>...</td>\n",
       "      <td>NaN</td>\n",
       "      <td>NaN</td>\n",
       "      <td>NaN</td>\n",
       "      <td>NaN</td>\n",
       "      <td>NaN</td>\n",
       "      <td>NaN</td>\n",
       "      <td>NaN</td>\n",
       "      <td>NaN</td>\n",
       "      <td>NaN</td>\n",
       "      <td>NaN</td>\n",
       "    </tr>\n",
       "    <tr>\n",
       "      <th>541</th>\n",
       "      <td>d7298e95-66bc-4087-a049-a9778dae1663</td>\n",
       "      <td>542</td>\n",
       "      <td>1</td>\n",
       "      <td>00:10:19.689</td>\n",
       "      <td>10</td>\n",
       "      <td>19</td>\n",
       "      <td>28</td>\n",
       "      <td>0.0342</td>\n",
       "      <td>16</td>\n",
       "      <td>Shot</td>\n",
       "      <td>...</td>\n",
       "      <td>NaN</td>\n",
       "      <td>NaN</td>\n",
       "      <td>NaN</td>\n",
       "      <td>NaN</td>\n",
       "      <td>NaN</td>\n",
       "      <td>NaN</td>\n",
       "      <td>NaN</td>\n",
       "      <td>NaN</td>\n",
       "      <td>NaN</td>\n",
       "      <td>NaN</td>\n",
       "    </tr>\n",
       "  </tbody>\n",
       "</table>\n",
       "<p>3 rows × 100 columns</p>\n",
       "</div>"
      ],
      "text/plain": [
       "                                       id  index  period     timestamp  \\\n",
       "139  2ed6738e-9be5-4de3-9b97-b9a8e835b086    140       1  00:02:47.553   \n",
       "527  ec590ad9-0866-4b1b-b267-f2754e3e3ff5    528       1  00:10:05.546   \n",
       "541  d7298e95-66bc-4087-a049-a9778dae1663    542       1  00:10:19.689   \n",
       "\n",
       "     minute  second  possession  duration  type_id type_name  ...  \\\n",
       "139       2      47          11    0.2434       16      Shot  ...   \n",
       "527      10       5          28    0.1017       16      Shot  ...   \n",
       "541      10      19          28    0.0342       16      Shot  ...   \n",
       "\n",
       "     substitution_outcome_id substitution_outcome_name  \\\n",
       "139                      NaN                       NaN   \n",
       "527                      NaN                       NaN   \n",
       "541                      NaN                       NaN   \n",
       "\n",
       "     substitution_replacement_id substitution_replacement_name  \\\n",
       "139                          NaN                           NaN   \n",
       "527                          NaN                           NaN   \n",
       "541                          NaN                           NaN   \n",
       "\n",
       "     foul_committed_type_id foul_committed_type_name  bad_behaviour_card_id  \\\n",
       "139                     NaN                      NaN                    NaN   \n",
       "527                     NaN                      NaN                    NaN   \n",
       "541                     NaN                      NaN                    NaN   \n",
       "\n",
       "    bad_behaviour_card_name foul_committed_advantage foul_won_advantage  \n",
       "139                     NaN                      NaN                NaN  \n",
       "527                     NaN                      NaN                NaN  \n",
       "541                     NaN                      NaN                NaN  \n",
       "\n",
       "[3 rows x 100 columns]"
      ]
     },
     "execution_count": 16,
     "metadata": {},
     "output_type": "execute_result"
    }
   ],
   "source": [
    "shots.head(3)"
   ]
  },
  {
   "cell_type": "code",
   "execution_count": 17,
   "metadata": {},
   "outputs": [],
   "source": [
    "# storing the home team and away team names in variables for future use\n",
    "home_team = matches[0]['home_team']['home_team_name']\n",
    "away_team = matches[0]['away_team']['away_team_name']"
   ]
  },
  {
   "cell_type": "code",
   "execution_count": 18,
   "metadata": {},
   "outputs": [
    {
     "data": {
      "image/png": "[encoded data removed]",
      "text/plain": [
       "<Figure size 720x504 with 1 Axes>"
      ]
     },
     "metadata": {
      "needs_background": "light"
     },
     "output_type": "display_data"
    }
   ],
   "source": [
    "# creating the shot map\n",
    "(fig, ax) = createPitch(length=pitch_len_x, width=pitch_len_y, unity='yards', linecolor='gray')\n",
    "\n",
    "home_shots, home_goals, away_shots, away_goals = 0, 0, 0, 0\n",
    "\n",
    "for i, shot in shots.iterrows():\n",
    "    # keeping track of the shot location\n",
    "    x, y = shot['location'][0], shot['location'][1]\n",
    "    # checks and stores whether the shot got converted into a goal or not\n",
    "    goal = shot['shot_outcome_name'] == 'Goal'\n",
    "    # circle radius is proportional to the square root of xG value (that is, circle area is proportional to the xG value)\n",
    "    circleSize = np.sqrt(shot['shot_statsbomb_xg']*20)\n",
    "    if shot['team_name'] == home_team:\n",
    "        home_shots += 1\n",
    "        if goal:\n",
    "            home_goals += 1\n",
    "            shotCircle = plt.Circle(xy=(x, pitch_len_y-y), radius=circleSize, color='red')\n",
    "            plt.text(x=x+1, y=pitch_len_y-y+1, s=str(round(shot['shot_statsbomb_xg'], 3)))\n",
    "        else:\n",
    "            shotCircle = plt.Circle(xy=(x, pitch_len_y-y), radius=circleSize, color='red')\n",
    "            shotCircle.set_alpha(0.3)\n",
    "    else:\n",
    "        away_shots += 1\n",
    "        if goal:\n",
    "            away_goals += 1\n",
    "            shotCircle = plt.Circle(xy=(pitch_len_x-x, y), radius=circleSize, color='blue')\n",
    "            plt.text(x=pitch_len_x-x+1, y=y+1, s=str(round(shot['shot_statsbomb_xg'], 3)))\n",
    "        else:\n",
    "            shotCircle = plt.Circle(xy=(pitch_len_x-x, y), radius=circleSize, color='blue')\n",
    "            shotCircle.set_alpha(0.3)\n",
    "    ax.add_patch(shotCircle)\n",
    "\n",
    "fig.set_size_inches(10, 7)\n",
    "plt.title(label=match + ' (Shot Map)', loc='center')\n",
    "plt.text(x=10, y=75, s=away_team)\n",
    "plt.text(x=80, y=75, s=home_team)\n",
    "plt.text(x=10, y=71, s='Shots taken: ' + str(away_shots))\n",
    "plt.text(x=80, y=71, s='Shots taken: ' + str(home_shots))\n",
    "plt.text(x=10, y=67, s='Goals scored: ' + str(away_goals))\n",
    "plt.text(x=80, y=67, s='Goals scored: ' + str(home_goals))\n",
    "plt.text(x=2, y=6, s='*Darker circles show goals scored along with their xG values (rounded off to 3 decimal places).')\n",
    "plt.text(x=2, y=3, s=\"*The size of a circle is proportional to the corresponding shot's xG value.\")\n",
    "plt.show()"
   ]
  },
  {
   "cell_type": "markdown",
   "metadata": {},
   "source": [
    "Evidently, FC Barcelona took a lot more shots than Manchester United. This might be a reason behind more number of goals for FC Barcelona, as more number of shots (with good xG values) also increases the chances of scoring goals."
   ]
  },
  {
   "cell_type": "markdown",
   "metadata": {},
   "source": [
    "### Pass map"
   ]
  },
  {
   "cell_type": "markdown",
   "metadata": {},
   "source": [
    "Similarly like the shot map section, we will create a separate dataframe for all of Xavi's passes in this match."
   ]
  },
  {
   "cell_type": "code",
   "execution_count": 19,
   "metadata": {},
   "outputs": [],
   "source": [
    "condition = (df['type_name'] == 'Pass') & (df['player_name'] == 'Xavier HernÃ¡ndez Creus')\n",
    "passes = df[condition]\n",
    "num_passes = str(passes['id'].nunique()) # storing the number of passes made by Xavi for future use"
   ]
  },
  {
   "cell_type": "code",
   "execution_count": 20,
   "metadata": {},
   "outputs": [
    {
     "data": {
      "text/html": [
       "<div>\n",
       "<style scoped>\n",
       "    .dataframe tbody tr th:only-of-type {\n",
       "        vertical-align: middle;\n",
       "    }\n",
       "\n",
       "    .dataframe tbody tr th {\n",
       "        vertical-align: top;\n",
       "    }\n",
       "\n",
       "    .dataframe thead th {\n",
       "        text-align: right;\n",
       "    }\n",
       "</style>\n",
       "<table border=\"1\" class=\"dataframe\">\n",
       "  <thead>\n",
       "    <tr style=\"text-align: right;\">\n",
       "      <th></th>\n",
       "      <th>id</th>\n",
       "      <th>index</th>\n",
       "      <th>period</th>\n",
       "      <th>timestamp</th>\n",
       "      <th>minute</th>\n",
       "      <th>second</th>\n",
       "      <th>possession</th>\n",
       "      <th>duration</th>\n",
       "      <th>type_id</th>\n",
       "      <th>type_name</th>\n",
       "      <th>...</th>\n",
       "      <th>substitution_outcome_id</th>\n",
       "      <th>substitution_outcome_name</th>\n",
       "      <th>substitution_replacement_id</th>\n",
       "      <th>substitution_replacement_name</th>\n",
       "      <th>foul_committed_type_id</th>\n",
       "      <th>foul_committed_type_name</th>\n",
       "      <th>bad_behaviour_card_id</th>\n",
       "      <th>bad_behaviour_card_name</th>\n",
       "      <th>foul_committed_advantage</th>\n",
       "      <th>foul_won_advantage</th>\n",
       "    </tr>\n",
       "  </thead>\n",
       "  <tbody>\n",
       "    <tr>\n",
       "      <th>191</th>\n",
       "      <td>60b2388a-727f-408b-a366-c54cfcde41be</td>\n",
       "      <td>192</td>\n",
       "      <td>1</td>\n",
       "      <td>00:03:37.946</td>\n",
       "      <td>3</td>\n",
       "      <td>37</td>\n",
       "      <td>13</td>\n",
       "      <td>1.366364</td>\n",
       "      <td>30</td>\n",
       "      <td>Pass</td>\n",
       "      <td>...</td>\n",
       "      <td>NaN</td>\n",
       "      <td>NaN</td>\n",
       "      <td>NaN</td>\n",
       "      <td>NaN</td>\n",
       "      <td>NaN</td>\n",
       "      <td>NaN</td>\n",
       "      <td>NaN</td>\n",
       "      <td>NaN</td>\n",
       "      <td>NaN</td>\n",
       "      <td>NaN</td>\n",
       "    </tr>\n",
       "    <tr>\n",
       "      <th>206</th>\n",
       "      <td>783ff0e0-ec93-4dab-8e76-e7b776f5f5ae</td>\n",
       "      <td>207</td>\n",
       "      <td>1</td>\n",
       "      <td>00:03:56.152</td>\n",
       "      <td>3</td>\n",
       "      <td>56</td>\n",
       "      <td>13</td>\n",
       "      <td>1.956395</td>\n",
       "      <td>30</td>\n",
       "      <td>Pass</td>\n",
       "      <td>...</td>\n",
       "      <td>NaN</td>\n",
       "      <td>NaN</td>\n",
       "      <td>NaN</td>\n",
       "      <td>NaN</td>\n",
       "      <td>NaN</td>\n",
       "      <td>NaN</td>\n",
       "      <td>NaN</td>\n",
       "      <td>NaN</td>\n",
       "      <td>NaN</td>\n",
       "      <td>NaN</td>\n",
       "    </tr>\n",
       "    <tr>\n",
       "      <th>327</th>\n",
       "      <td>4747a90d-d5f9-47cd-a91b-cf56662790d2</td>\n",
       "      <td>328</td>\n",
       "      <td>1</td>\n",
       "      <td>00:06:04.485</td>\n",
       "      <td>6</td>\n",
       "      <td>4</td>\n",
       "      <td>20</td>\n",
       "      <td>2.214512</td>\n",
       "      <td>30</td>\n",
       "      <td>Pass</td>\n",
       "      <td>...</td>\n",
       "      <td>NaN</td>\n",
       "      <td>NaN</td>\n",
       "      <td>NaN</td>\n",
       "      <td>NaN</td>\n",
       "      <td>NaN</td>\n",
       "      <td>NaN</td>\n",
       "      <td>NaN</td>\n",
       "      <td>NaN</td>\n",
       "      <td>NaN</td>\n",
       "      <td>NaN</td>\n",
       "    </tr>\n",
       "  </tbody>\n",
       "</table>\n",
       "<p>3 rows × 100 columns</p>\n",
       "</div>"
      ],
      "text/plain": [
       "                                       id  index  period     timestamp  \\\n",
       "191  60b2388a-727f-408b-a366-c54cfcde41be    192       1  00:03:37.946   \n",
       "206  783ff0e0-ec93-4dab-8e76-e7b776f5f5ae    207       1  00:03:56.152   \n",
       "327  4747a90d-d5f9-47cd-a91b-cf56662790d2    328       1  00:06:04.485   \n",
       "\n",
       "     minute  second  possession  duration  type_id type_name  ...  \\\n",
       "191       3      37          13  1.366364       30      Pass  ...   \n",
       "206       3      56          13  1.956395       30      Pass  ...   \n",
       "327       6       4          20  2.214512       30      Pass  ...   \n",
       "\n",
       "     substitution_outcome_id substitution_outcome_name  \\\n",
       "191                      NaN                       NaN   \n",
       "206                      NaN                       NaN   \n",
       "327                      NaN                       NaN   \n",
       "\n",
       "     substitution_replacement_id substitution_replacement_name  \\\n",
       "191                          NaN                           NaN   \n",
       "206                          NaN                           NaN   \n",
       "327                          NaN                           NaN   \n",
       "\n",
       "     foul_committed_type_id foul_committed_type_name  bad_behaviour_card_id  \\\n",
       "191                     NaN                      NaN                    NaN   \n",
       "206                     NaN                      NaN                    NaN   \n",
       "327                     NaN                      NaN                    NaN   \n",
       "\n",
       "    bad_behaviour_card_name foul_committed_advantage foul_won_advantage  \n",
       "191                     NaN                      NaN                NaN  \n",
       "206                     NaN                      NaN                NaN  \n",
       "327                     NaN                      NaN                NaN  \n",
       "\n",
       "[3 rows x 100 columns]"
      ]
     },
     "execution_count": 20,
     "metadata": {},
     "output_type": "execute_result"
    }
   ],
   "source": [
    "passes.head(3)"
   ]
  },
  {
   "cell_type": "code",
   "execution_count": 21,
   "metadata": {},
   "outputs": [
    {
     "data": {
      "image/png": "[encoded data removed]",
      "text/plain": [
       "<Figure size 720x504 with 1 Axes>"
      ]
     },
     "metadata": {
      "needs_background": "light"
     },
     "output_type": "display_data"
    }
   ],
   "source": [
    "# creating the pass map\n",
    "(fig, ax) = createPitch(length=pitch_len_x, width=pitch_len_y, unity='yards', linecolor='gray')\n",
    "circleSize = 1\n",
    "\n",
    "for i, p in passes.iterrows():\n",
    "    # keeping track of the start location of the pass\n",
    "    x, y = p['location'][0], p['location'][1]\n",
    "    passCircle = plt.Circle(xy=(x, pitch_len_y-y), radius=circleSize, color='blue')\n",
    "    passCircle.set_alpha(0.4)\n",
    "    ax.add_patch(passCircle)\n",
    "    # measuring the length of the pass using its end location\n",
    "    dist_x, dist_y = p['pass_end_location'][0]-x, y-p['pass_end_location'][1]\n",
    "    passArrow = plt.Arrow(x=x, y=pitch_len_y-y, dx=dist_x, dy=dist_y, width=1.5, color='blue')\n",
    "    ax.add_patch(passArrow)\n",
    "    \n",
    "plt.title(label=player_name + ' (Pass Map)', loc='center')\n",
    "plt.title(label=match, loc='left')\n",
    "plt.title(label='Total passes: ' + num_passes, loc='right')\n",
    "fig.set_size_inches(10, 7)\n",
    "plt.show()"
   ]
  },
  {
   "cell_type": "markdown",
   "metadata": {},
   "source": [
    "Xavi totally dominated the midfield in the final. He even made an elegant assist, perfectly timed and perfectly weighted, which led to FC Barcelona's first goal (scored by Pedro). "
   ]
  },
  {
   "cell_type": "code",
   "execution_count": null,
   "metadata": {},
   "outputs": [],
   "source": []
  }
 ],
 "metadata": {
  "kernelspec": {
   "display_name": "Python 3",
   "language": "python",
   "name": "python3"
  },
  "language_info": {
   "codemirror_mode": {
    "name": "ipython",
    "version": 3
   },
   "file_extension": ".py",
   "mimetype": "text/x-python",
   "name": "python",
   "nbconvert_exporter": "python",
   "pygments_lexer": "ipython3",
   "version": "3.7.9"
  }
 },
 "nbformat": 4,
 "nbformat_minor": 4
}
