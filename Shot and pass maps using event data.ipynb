{
 "cells": [
  {
   "cell_type": "markdown",
   "metadata": {},
   "source": [
    "# Shot and Pass Maps using StatsBomb event data"
   ]
  },
  {
   "cell_type": "markdown",
   "metadata": {},
   "source": [
    "### Import libraries and modules"
   ]
  },
  {
   "cell_type": "code",
   "execution_count": 1,
   "metadata": {},
   "outputs": [],
   "source": [
    "import matplotlib.pyplot as plt\n",
    "import numpy as np\n",
    "from FCPython import createPitch\n",
    "import json"
   ]
  },
  {
   "cell_type": "markdown",
   "metadata": {},
   "source": [
    "### Load in the event data"
   ]
  },
  {
   "cell_type": "markdown",
   "metadata": {},
   "source": [
    "I'd like to plot the shot map of the UEFA Champions League 2010-11 Final between FC Barcelona and Manchester United. After this, I'd also like to plot the pass map of Xavi Hernandez in the same match."
   ]
  },
  {
   "cell_type": "markdown",
   "metadata": {},
   "source": [
    "First of all, I'd need to find the match ID of this match in order to get its event data. Let's find the match ID."
   ]
  },
  {
   "cell_type": "code",
   "execution_count": 2,
   "metadata": {},
   "outputs": [],
   "source": [
    "# loading in the competition data\n",
    "with open('SoccermaticsForPython-master/StatsBomb/data/competitions.json') as f:\n",
    "    competitions = json.load(f)"
   ]
  },
  {
   "cell_type": "code",
   "execution_count": 3,
   "metadata": {},
   "outputs": [],
   "source": [
    "# finding the competition id and season id of UEFA Champions League 2010-11 to help fetch match data from this competition\n",
    "for competition in competitions:\n",
    "    if (competition['competition_name'] == 'Champions League') and (competition['season_name'] == '2010/2011'):\n",
    "        competition_id = competition['competition_id']\n",
    "        season_id = competition['season_id']\n",
    "        break"
   ]
  },
  {
   "cell_type": "code",
   "execution_count": 4,
   "metadata": {},
   "outputs": [],
   "source": [
    "# loading in UEFA Champions League 2010-11 match data\n",
    "match_data_location = f''\n",
    "with open('SoccermaticsForPython-master/StatsBomb/data/matches/' + str(competition_id) + '/' + str(season_id) + '.json', encoding='utf8') as f:\n",
    "    matches = json.load(f)"
   ]
  },
  {
   "cell_type": "code",
   "execution_count": 6,
   "metadata": {},
   "outputs": [
    {
     "data": {
      "text/plain": [
       "1"
      ]
     },
     "execution_count": 6,
     "metadata": {},
     "output_type": "execute_result"
    }
   ],
   "source": [
    "# finding the number of matches whose data is present in the match data\n",
    "len(matches)"
   ]
  },
  {
   "cell_type": "markdown",
   "metadata": {},
   "source": [
    "Let's observe this single match's data."
   ]
  },
  {
   "cell_type": "code",
   "execution_count": 7,
   "metadata": {},
   "outputs": [
    {
     "data": {
      "text/plain": [
       "[{'match_id': 18236,\n",
       "  'match_date': '2011-05-28',\n",
       "  'kick_off': '20:45:00.000',\n",
       "  'competition': {'competition_id': 16,\n",
       "   'country_name': 'Europe',\n",
       "   'competition_name': 'Champions League'},\n",
       "  'season': {'season_id': 22, 'season_name': '2010/2011'},\n",
       "  'home_team': {'home_team_id': 217,\n",
       "   'home_team_name': 'Barcelona',\n",
       "   'home_team_gender': 'male',\n",
       "   'home_team_group': None,\n",
       "   'country': {'id': 214, 'name': 'Spain'},\n",
       "   'managers': [{'id': 36,\n",
       "     'name': 'Josep Guardiola i Sala',\n",
       "     'nickname': 'Pep Guardiola',\n",
       "     'dob': None,\n",
       "     'country': {'id': 214, 'name': 'Spain'}}]},\n",
       "  'away_team': {'away_team_id': 39,\n",
       "   'away_team_name': 'Manchester United',\n",
       "   'away_team_gender': 'male',\n",
       "   'away_team_group': None,\n",
       "   'country': {'id': 68, 'name': 'England'},\n",
       "   'managers': [{'id': 790,\n",
       "     'name': 'Alex Ferguson',\n",
       "     'nickname': None,\n",
       "     'dob': '2041-12-31',\n",
       "     'country': {'id': 201, 'name': 'Scotland'}}]},\n",
       "  'home_score': 3,\n",
       "  'away_score': 1,\n",
       "  'match_status': 'available',\n",
       "  'last_updated': '2020-07-29T05:00',\n",
       "  'metadata': {'data_version': '1.0.3'},\n",
       "  'match_week': 1,\n",
       "  'competition_stage': {'id': 26, 'name': 'Final'},\n",
       "  'stadium': {'id': 4666,\n",
       "   'name': 'Wembley Stadium',\n",
       "   'country': {'id': 68, 'name': 'England'}},\n",
       "  'referee': {'id': 449,\n",
       "   'name': 'V. Kassai',\n",
       "   'country': {'id': 103, 'name': 'Hungary'}}}]"
      ]
     },
     "execution_count": 7,
     "metadata": {},
     "output_type": "execute_result"
    }
   ],
   "source": [
    "matches"
   ]
  },
  {
   "cell_type": "markdown",
   "metadata": {},
   "source": [
    "A careful look into the match data reveals that this single match's data is from the final itself. This means that we can further find the event data that we need. Let's store this match's match ID which we will use to fetch the event data."
   ]
  },
  {
   "cell_type": "code",
   "execution_count": 10,
   "metadata": {},
   "outputs": [
    {
     "data": {
      "text/plain": [
       "18236"
      ]
     },
     "execution_count": 10,
     "metadata": {},
     "output_type": "execute_result"
    }
   ],
   "source": [
    "match_id = matches[0]['match_id']\n",
    "match_id"
   ]
  },
  {
   "cell_type": "code",
   "execution_count": null,
   "metadata": {},
   "outputs": [],
   "source": []
  }
 ],
 "metadata": {
  "kernelspec": {
   "display_name": "Python 3",
   "language": "python",
   "name": "python3"
  },
  "language_info": {
   "codemirror_mode": {
    "name": "ipython",
    "version": 3
   },
   "file_extension": ".py",
   "mimetype": "text/x-python",
   "name": "python",
   "nbconvert_exporter": "python",
   "pygments_lexer": "ipython3",
   "version": "3.7.9"
  }
 },
 "nbformat": 4,
 "nbformat_minor": 4
}
