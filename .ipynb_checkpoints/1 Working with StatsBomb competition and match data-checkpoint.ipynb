{
 "cells": [
  {
   "cell_type": "markdown",
   "metadata": {},
   "source": [
    "# Working with StatsBomb competition and match data"
   ]
  },
  {
   "cell_type": "markdown",
   "metadata": {},
   "source": [
    "### Import libraries and modules"
   ]
  },
  {
   "cell_type": "code",
   "execution_count": 40,
   "metadata": {},
   "outputs": [],
   "source": [
    "import json\n",
    "import pandas as pd"
   ]
  },
  {
   "cell_type": "markdown",
   "metadata": {},
   "source": [
    "### Load in the competition and match data"
   ]
  },
  {
   "cell_type": "code",
   "execution_count": 14,
   "metadata": {},
   "outputs": [],
   "source": [
    "# loading in the competition data\n",
    "with open('SoccermaticsForPython-master/StatsBomb/data/competitions.json') as f:\n",
    "    competitions = json.load(f)"
   ]
  },
  {
   "cell_type": "markdown",
   "metadata": {},
   "source": [
    "Let's see what data we have for a competition."
   ]
  },
  {
   "cell_type": "code",
   "execution_count": 9,
   "metadata": {},
   "outputs": [
    {
     "data": {
      "text/plain": [
       "{'competition_id': 16,\n",
       " 'season_id': 4,\n",
       " 'country_name': 'Europe',\n",
       " 'competition_name': 'Champions League',\n",
       " 'competition_gender': 'male',\n",
       " 'season_name': '2018/2019',\n",
       " 'match_updated': '2020-10-25T12:33:27.855343',\n",
       " 'match_available': '2020-10-25T12:33:27.855343'}"
      ]
     },
     "execution_count": 9,
     "metadata": {},
     "output_type": "execute_result"
    }
   ],
   "source": [
    "competitions[0]"
   ]
  },
  {
   "cell_type": "markdown",
   "metadata": {},
   "source": [
    "Let's have a look at all the competitions and seasons we have in our competition data."
   ]
  },
  {
   "cell_type": "code",
   "execution_count": 11,
   "metadata": {},
   "outputs": [
    {
     "name": "stdout",
     "output_type": "stream",
     "text": [
      "Champions League 2018/2019\n",
      "Champions League 2017/2018\n",
      "Champions League 2016/2017\n",
      "Champions League 2015/2016\n",
      "Champions League 2014/2015\n",
      "Champions League 2013/2014\n",
      "Champions League 2012/2013\n",
      "Champions League 2011/2012\n",
      "Champions League 2010/2011\n",
      "Champions League 2009/2010\n",
      "Champions League 2008/2009\n",
      "Champions League 2006/2007\n",
      "Champions League 2004/2005\n",
      "Champions League 2003/2004\n",
      "Champions League 1999/2000\n",
      "FA Women's Super League 2019/2020\n",
      "FA Women's Super League 2018/2019\n",
      "FIFA World Cup 2018\n",
      "La Liga 2019/2020\n",
      "La Liga 2018/2019\n",
      "La Liga 2017/2018\n",
      "La Liga 2016/2017\n",
      "La Liga 2015/2016\n",
      "La Liga 2014/2015\n",
      "La Liga 2013/2014\n",
      "La Liga 2012/2013\n",
      "La Liga 2011/2012\n",
      "La Liga 2010/2011\n",
      "La Liga 2009/2010\n",
      "La Liga 2008/2009\n",
      "La Liga 2007/2008\n",
      "La Liga 2006/2007\n",
      "La Liga 2005/2006\n",
      "La Liga 2004/2005\n",
      "NWSL 2018\n",
      "Premier League 2003/2004\n",
      "Women's World Cup 2019\n"
     ]
    }
   ],
   "source": [
    "for competition in competitions:\n",
    "    name = competition['competition_name']\n",
    "    season = competition['season_name']\n",
    "    print(f'{name} {season}')"
   ]
  },
  {
   "cell_type": "markdown",
   "metadata": {},
   "source": [
    "I'd like to investigate the data from the 2014-15 season of La Liga. This was the last season when FC Barcelona won the treble (La Liga, Copa del Rey and the UEFA Champions League). Let's load in the La Liga match data specifically from the 2014-15 season. "
   ]
  },
  {
   "cell_type": "code",
   "execution_count": 12,
   "metadata": {},
   "outputs": [],
   "source": [
    "# finding the competition id and season id of La Liga 2014-15 season to help fetch match data from this season\n",
    "for competition in competitions:\n",
    "    if (competition['competition_name'] == 'La Liga') and (competition['season_name'] == '2014/2015'):\n",
    "        competition_id = competition['competition_id']\n",
    "        season_id = competition['season_id']\n",
    "        break"
   ]
  },
  {
   "cell_type": "code",
   "execution_count": 19,
   "metadata": {},
   "outputs": [],
   "source": [
    "# loading in La Liga 2014-15 match data\n",
    "match_data_location = f''\n",
    "with open('SoccermaticsForPython-master/StatsBomb/data/matches/' + str(competition_id) + '/' + str(season_id) + '.json', encoding='utf8') as f:\n",
    "    matches = json.load(f)"
   ]
  },
  {
   "cell_type": "markdown",
   "metadata": {},
   "source": [
    "Let's check out what data we have for a single match."
   ]
  },
  {
   "cell_type": "code",
   "execution_count": 22,
   "metadata": {},
   "outputs": [
    {
     "data": {
      "text/plain": [
       "{'match_id': 266117,\n",
       " 'match_date': '2014-09-27',\n",
       " 'kick_off': '18:00:00.000',\n",
       " 'competition': {'competition_id': 11,\n",
       "  'country_name': 'Spain',\n",
       "  'competition_name': 'La Liga'},\n",
       " 'season': {'season_id': 26, 'season_name': '2014/2015'},\n",
       " 'home_team': {'home_team_id': 217,\n",
       "  'home_team_name': 'Barcelona',\n",
       "  'home_team_gender': 'male',\n",
       "  'home_team_group': None,\n",
       "  'country': {'id': 214, 'name': 'Spain'},\n",
       "  'managers': [{'id': 793,\n",
       "    'name': 'Luis Enrique Martínez García',\n",
       "    'nickname': 'Luis Enrique',\n",
       "    'dob': None,\n",
       "    'country': {'id': 214, 'name': 'Spain'}}]},\n",
       " 'away_team': {'away_team_id': 1049,\n",
       "  'away_team_name': 'Granada',\n",
       "  'away_team_gender': 'male',\n",
       "  'away_team_group': None,\n",
       "  'country': {'id': 214, 'name': 'Spain'},\n",
       "  'managers': [{'id': 497,\n",
       "    'name': 'Joaquín de Jesús Caparrós Camino',\n",
       "    'nickname': 'Joaquín Caparrós',\n",
       "    'dob': None,\n",
       "    'country': {'id': 214, 'name': 'Spain'}}]},\n",
       " 'home_score': 6,\n",
       " 'away_score': 0,\n",
       " 'match_status': 'available',\n",
       " 'last_updated': '2020-07-29T05:00',\n",
       " 'metadata': {'data_version': '1.1.0',\n",
       "  'shot_fidelity_version': '2',\n",
       "  'xy_fidelity_version': '2'},\n",
       " 'match_week': 6,\n",
       " 'competition_stage': {'id': 1, 'name': 'Regular Season'},\n",
       " 'stadium': {'id': 342,\n",
       "  'name': 'Camp Nou',\n",
       "  'country': {'id': 214, 'name': 'Spain'}},\n",
       " 'referee': {'id': 207,\n",
       "  'name': 'Juan Martínez',\n",
       "  'country': {'id': 112, 'name': 'Italy'}}}"
      ]
     },
     "execution_count": 22,
     "metadata": {},
     "output_type": "execute_result"
    }
   ],
   "source": [
    "matches[0]"
   ]
  },
  {
   "cell_type": "markdown",
   "metadata": {},
   "source": [
    "You can see that FC Barcelona's name is saved as 'Barcelona' in this data. We will need information this later."
   ]
  },
  {
   "cell_type": "markdown",
   "metadata": {},
   "source": [
    "### Data analysis"
   ]
  },
  {
   "cell_type": "markdown",
   "metadata": {},
   "source": [
    "A quick check shows that this json file contains only the match result data of FC Barcelona from La Liga 2014-15:     "
   ]
  },
  {
   "cell_type": "code",
   "execution_count": 32,
   "metadata": {},
   "outputs": [
    {
     "name": "stdout",
     "output_type": "stream",
     "text": [
      "Home team: Barcelona, Away team: Granada\n",
      "Home team: Barcelona, Away team: Rayo Vallecano\n",
      "Home team: Barcelona, Away team: Real Madrid\n",
      "Home team: Barcelona, Away team: Deportivo La Coruna\n",
      "Home team: Levante, Away team: Barcelona\n",
      "Home team: Barcelona, Away team: Getafe\n",
      "Home team: Getafe, Away team: Barcelona\n",
      "Home team: Barcelona, Away team: Athletic Bilbao\n",
      "Home team: Barcelona, Away team: Celta Vigo\n",
      "Home team: Barcelona, Away team: Eibar\n",
      "Home team: Córdoba, Away team: Barcelona\n",
      "Home team: Barcelona, Away team: Almería\n",
      "Home team: Sevilla, Away team: Barcelona\n",
      "Home team: Villarreal, Away team: Barcelona\n",
      "Home team: Real Madrid, Away team: Barcelona\n",
      "Home team: Rayo Vallecano, Away team: Barcelona\n",
      "Home team: Barcelona, Away team: Málaga\n",
      "Home team: Barcelona, Away team: Real Sociedad\n",
      "Home team: Barcelona, Away team: Atlético Madrid\n",
      "Home team: Real Sociedad, Away team: Barcelona\n",
      "Home team: Barcelona, Away team: Villarreal\n",
      "Home team: Barcelona, Away team: Sevilla\n",
      "Home team: Málaga, Away team: Barcelona\n",
      "Home team: Elche, Away team: Barcelona\n",
      "Home team: Granada, Away team: Barcelona\n",
      "Home team: Atlético Madrid, Away team: Barcelona\n",
      "Home team: Barcelona, Away team: Espanyol\n",
      "Home team: Deportivo La Coruna, Away team: Barcelona\n",
      "Home team: Barcelona, Away team: Valencia\n",
      "Home team: Valencia, Away team: Barcelona\n",
      "Home team: Barcelona, Away team: Córdoba\n",
      "Home team: Espanyol, Away team: Barcelona\n",
      "Home team: Barcelona, Away team: Elche\n",
      "Home team: Almería, Away team: Barcelona\n",
      "Home team: Barcelona, Away team: Levante\n",
      "Home team: Athletic Bilbao, Away team: Barcelona\n",
      "Home team: Eibar, Away team: Barcelona\n",
      "Home team: Celta Vigo, Away team: Barcelona\n",
      "\n",
      "\n",
      "Total number of matches listed in the json file: 38\n"
     ]
    }
   ],
   "source": [
    "total_matches = 0\n",
    "for match in matches:\n",
    "    home_team = match['home_team']['home_team_name']\n",
    "    away_team = match['away_team']['away_team_name']\n",
    "    total_matches += 1\n",
    "    print(f'Home team: {home_team}, Away team: {away_team}')\n",
    "print('\\n')\n",
    "print(f'Total number of matches listed in the json file: {total_matches}')"
   ]
  },
  {
   "cell_type": "markdown",
   "metadata": {},
   "source": [
    "You can notice that each of the matches listed above contain FC Barcelona either as the home team or as the away team. Let's confirm this. If this json file contains all of FC Barcelona's results from La Liga 2014-15 only, then we should have 19 home matches and 19 away matches with FC Barcelona being either the home team or the away team (there are a total of 20 teams in La Liga, so each team plays against the other 19 teams twice - once at home and once away from home)."
   ]
  },
  {
   "cell_type": "code",
   "execution_count": 34,
   "metadata": {},
   "outputs": [
    {
     "name": "stdout",
     "output_type": "stream",
     "text": [
      "Number of matches in the json file with FC Barcelona as the home team: 19\n",
      "Number of matches in the json file with FC Barcelona as the away team: 19\n"
     ]
    }
   ],
   "source": [
    "home_matches, away_matches = 0, 0\n",
    "for match in matches:\n",
    "    if match['home_team']['home_team_name'] == 'Barcelona':\n",
    "        home_matches += 1\n",
    "    elif match['away_team']['away_team_name'] == 'Barcelona':\n",
    "        away_matches += 1\n",
    "print(f'Number of matches in the json file with FC Barcelona as the home team: {home_matches}')\n",
    "print(f'Number of matches in the json file with FC Barcelona as the away team: {away_matches}')"
   ]
  },
  {
   "cell_type": "markdown",
   "metadata": {},
   "source": [
    "Now, we are sure that this json file that we have loaded in for the La Liga 2014-15 data contains match data for only FC Barcelona. But this is a good thing for us as we needed all of FC Barcelona's match data for this season. "
   ]
  },
  {
   "cell_type": "markdown",
   "metadata": {},
   "source": [
    "First of all, I will create a list of all of the match results of FC Barcelona in La Liga 2014-15 and add them to a dataframe."
   ]
  },
  {
   "cell_type": "code",
   "execution_count": 38,
   "metadata": {},
   "outputs": [],
   "source": [
    "# function to return the result of the match for FC Barcelona - using the scoreline\n",
    "def result(home_score, away_score, home_team):\n",
    "    if home_score > away_score:\n",
    "        if home_team == 'Barcelona':\n",
    "            return 'Win'\n",
    "        else:\n",
    "            return 'Loss'\n",
    "    elif home_score < away_score:\n",
    "        if home_team == 'Barcelona':\n",
    "            return 'Loss'\n",
    "        else:\n",
    "            return 'Win'\n",
    "    else:\n",
    "        return 'Draw'"
   ]
  },
  {
   "cell_type": "code",
   "execution_count": 39,
   "metadata": {},
   "outputs": [],
   "source": [
    "# creating a list of all of the match results of FC Barcelona\n",
    "match_results = []\n",
    "for match in matches:\n",
    "    match_result = []\n",
    "    match_result.append(match['match_id'])\n",
    "    match_result.append(match['match_date'])\n",
    "    match_result.append(match['home_team']['home_team_name'])\n",
    "    match_result.append(match['away_team']['away_team_name'])\n",
    "    score = str(match['home_score']) + '-' + str(match['away_score'])\n",
    "    match_result.append(score)\n",
    "    match_result.append(result(match['home_score'], match['away_score'], match['home_team']['home_team_name']))\n",
    "    match_results.append(match_result)"
   ]
  },
  {
   "cell_type": "code",
   "execution_count": 43,
   "metadata": {},
   "outputs": [],
   "source": [
    "# creating a dataframe for FC Barcelona's match results\n",
    "df = pd.DataFrame(data=match_results, columns=['Match ID', 'Date', 'Home Team', 'Away Team', 'Score', 'Match Result for FC Barcelona'])"
   ]
  },
  {
   "cell_type": "code",
   "execution_count": 49,
   "metadata": {},
   "outputs": [],
   "source": [
    "# sorting the match results in ascending order by the match date\n",
    "df.sort_values(by='Date', inplace=True)"
   ]
  },
  {
   "cell_type": "markdown",
   "metadata": {},
   "source": [
    "Here's the dataframe we've created - containing all of the match results of FC Barcelona from La Liga 2014-15:"
   ]
  },
  {
   "cell_type": "code",
   "execution_count": 51,
   "metadata": {},
   "outputs": [
    {
     "data": {
      "text/html": [
       "<div>\n",
       "<style scoped>\n",
       "    .dataframe tbody tr th:only-of-type {\n",
       "        vertical-align: middle;\n",
       "    }\n",
       "\n",
       "    .dataframe tbody tr th {\n",
       "        vertical-align: top;\n",
       "    }\n",
       "\n",
       "    .dataframe thead th {\n",
       "        text-align: right;\n",
       "    }\n",
       "</style>\n",
       "<table border=\"1\" class=\"dataframe\">\n",
       "  <thead>\n",
       "    <tr style=\"text-align: right;\">\n",
       "      <th></th>\n",
       "      <th>Match ID</th>\n",
       "      <th>Date</th>\n",
       "      <th>Home Team</th>\n",
       "      <th>Away Team</th>\n",
       "      <th>Score</th>\n",
       "      <th>Match Result for FC Barcelona</th>\n",
       "    </tr>\n",
       "  </thead>\n",
       "  <tbody>\n",
       "    <tr>\n",
       "      <th>32</th>\n",
       "      <td>266921</td>\n",
       "      <td>2014-08-24</td>\n",
       "      <td>Barcelona</td>\n",
       "      <td>Elche</td>\n",
       "      <td>3-0</td>\n",
       "      <td>Win</td>\n",
       "    </tr>\n",
       "    <tr>\n",
       "      <th>13</th>\n",
       "      <td>266406</td>\n",
       "      <td>2014-08-31</td>\n",
       "      <td>Villarreal</td>\n",
       "      <td>Barcelona</td>\n",
       "      <td>0-1</td>\n",
       "      <td>Win</td>\n",
       "    </tr>\n",
       "    <tr>\n",
       "      <th>7</th>\n",
       "      <td>70273</td>\n",
       "      <td>2014-09-13</td>\n",
       "      <td>Barcelona</td>\n",
       "      <td>Athletic Bilbao</td>\n",
       "      <td>2-0</td>\n",
       "      <td>Win</td>\n",
       "    </tr>\n",
       "    <tr>\n",
       "      <th>4</th>\n",
       "      <td>266770</td>\n",
       "      <td>2014-09-21</td>\n",
       "      <td>Levante</td>\n",
       "      <td>Barcelona</td>\n",
       "      <td>0-5</td>\n",
       "      <td>Win</td>\n",
       "    </tr>\n",
       "    <tr>\n",
       "      <th>22</th>\n",
       "      <td>266838</td>\n",
       "      <td>2014-09-24</td>\n",
       "      <td>Málaga</td>\n",
       "      <td>Barcelona</td>\n",
       "      <td>0-0</td>\n",
       "      <td>Draw</td>\n",
       "    </tr>\n",
       "    <tr>\n",
       "      <th>0</th>\n",
       "      <td>266117</td>\n",
       "      <td>2014-09-27</td>\n",
       "      <td>Barcelona</td>\n",
       "      <td>Granada</td>\n",
       "      <td>6-0</td>\n",
       "      <td>Win</td>\n",
       "    </tr>\n",
       "    <tr>\n",
       "      <th>15</th>\n",
       "      <td>267561</td>\n",
       "      <td>2014-10-04</td>\n",
       "      <td>Rayo Vallecano</td>\n",
       "      <td>Barcelona</td>\n",
       "      <td>0-2</td>\n",
       "      <td>Win</td>\n",
       "    </tr>\n",
       "    <tr>\n",
       "      <th>9</th>\n",
       "      <td>265896</td>\n",
       "      <td>2014-10-18</td>\n",
       "      <td>Barcelona</td>\n",
       "      <td>Eibar</td>\n",
       "      <td>3-0</td>\n",
       "      <td>Win</td>\n",
       "    </tr>\n",
       "    <tr>\n",
       "      <th>14</th>\n",
       "      <td>267085</td>\n",
       "      <td>2014-10-25</td>\n",
       "      <td>Real Madrid</td>\n",
       "      <td>Barcelona</td>\n",
       "      <td>3-1</td>\n",
       "      <td>Loss</td>\n",
       "    </tr>\n",
       "    <tr>\n",
       "      <th>8</th>\n",
       "      <td>267301</td>\n",
       "      <td>2014-11-01</td>\n",
       "      <td>Barcelona</td>\n",
       "      <td>Celta Vigo</td>\n",
       "      <td>0-1</td>\n",
       "      <td>Loss</td>\n",
       "    </tr>\n",
       "    <tr>\n",
       "      <th>33</th>\n",
       "      <td>267499</td>\n",
       "      <td>2014-11-08</td>\n",
       "      <td>Almería</td>\n",
       "      <td>Barcelona</td>\n",
       "      <td>1-2</td>\n",
       "      <td>Win</td>\n",
       "    </tr>\n",
       "    <tr>\n",
       "      <th>21</th>\n",
       "      <td>265835</td>\n",
       "      <td>2014-11-22</td>\n",
       "      <td>Barcelona</td>\n",
       "      <td>Sevilla</td>\n",
       "      <td>5-1</td>\n",
       "      <td>Win</td>\n",
       "    </tr>\n",
       "    <tr>\n",
       "      <th>29</th>\n",
       "      <td>266560</td>\n",
       "      <td>2014-11-30</td>\n",
       "      <td>Valencia</td>\n",
       "      <td>Barcelona</td>\n",
       "      <td>0-1</td>\n",
       "      <td>Win</td>\n",
       "    </tr>\n",
       "    <tr>\n",
       "      <th>26</th>\n",
       "      <td>266320</td>\n",
       "      <td>2014-12-07</td>\n",
       "      <td>Barcelona</td>\n",
       "      <td>Espanyol</td>\n",
       "      <td>5-1</td>\n",
       "      <td>Win</td>\n",
       "    </tr>\n",
       "    <tr>\n",
       "      <th>6</th>\n",
       "      <td>70264</td>\n",
       "      <td>2014-12-13</td>\n",
       "      <td>Getafe</td>\n",
       "      <td>Barcelona</td>\n",
       "      <td>0-0</td>\n",
       "      <td>Draw</td>\n",
       "    </tr>\n",
       "    <tr>\n",
       "      <th>30</th>\n",
       "      <td>266846</td>\n",
       "      <td>2014-12-20</td>\n",
       "      <td>Barcelona</td>\n",
       "      <td>Córdoba</td>\n",
       "      <td>5-0</td>\n",
       "      <td>Win</td>\n",
       "    </tr>\n",
       "    <tr>\n",
       "      <th>19</th>\n",
       "      <td>266240</td>\n",
       "      <td>2015-01-04</td>\n",
       "      <td>Real Sociedad</td>\n",
       "      <td>Barcelona</td>\n",
       "      <td>1-0</td>\n",
       "      <td>Loss</td>\n",
       "    </tr>\n",
       "    <tr>\n",
       "      <th>18</th>\n",
       "      <td>70303</td>\n",
       "      <td>2015-01-11</td>\n",
       "      <td>Barcelona</td>\n",
       "      <td>Atlético Madrid</td>\n",
       "      <td>3-1</td>\n",
       "      <td>Win</td>\n",
       "    </tr>\n",
       "    <tr>\n",
       "      <th>27</th>\n",
       "      <td>266230</td>\n",
       "      <td>2015-01-18</td>\n",
       "      <td>Deportivo La Coruna</td>\n",
       "      <td>Barcelona</td>\n",
       "      <td>0-4</td>\n",
       "      <td>Win</td>\n",
       "    </tr>\n",
       "    <tr>\n",
       "      <th>23</th>\n",
       "      <td>266794</td>\n",
       "      <td>2015-01-24</td>\n",
       "      <td>Elche</td>\n",
       "      <td>Barcelona</td>\n",
       "      <td>0-6</td>\n",
       "      <td>Win</td>\n",
       "    </tr>\n",
       "    <tr>\n",
       "      <th>20</th>\n",
       "      <td>267597</td>\n",
       "      <td>2015-02-01</td>\n",
       "      <td>Barcelona</td>\n",
       "      <td>Villarreal</td>\n",
       "      <td>3-2</td>\n",
       "      <td>Win</td>\n",
       "    </tr>\n",
       "    <tr>\n",
       "      <th>35</th>\n",
       "      <td>266871</td>\n",
       "      <td>2015-02-08</td>\n",
       "      <td>Athletic Bilbao</td>\n",
       "      <td>Barcelona</td>\n",
       "      <td>2-5</td>\n",
       "      <td>Win</td>\n",
       "    </tr>\n",
       "    <tr>\n",
       "      <th>34</th>\n",
       "      <td>266741</td>\n",
       "      <td>2015-02-15</td>\n",
       "      <td>Barcelona</td>\n",
       "      <td>Levante</td>\n",
       "      <td>5-0</td>\n",
       "      <td>Win</td>\n",
       "    </tr>\n",
       "    <tr>\n",
       "      <th>16</th>\n",
       "      <td>266148</td>\n",
       "      <td>2015-02-21</td>\n",
       "      <td>Barcelona</td>\n",
       "      <td>Málaga</td>\n",
       "      <td>0-1</td>\n",
       "      <td>Loss</td>\n",
       "    </tr>\n",
       "    <tr>\n",
       "      <th>24</th>\n",
       "      <td>267343</td>\n",
       "      <td>2015-02-28</td>\n",
       "      <td>Granada</td>\n",
       "      <td>Barcelona</td>\n",
       "      <td>1-3</td>\n",
       "      <td>Win</td>\n",
       "    </tr>\n",
       "    <tr>\n",
       "      <th>1</th>\n",
       "      <td>266916</td>\n",
       "      <td>2015-03-08</td>\n",
       "      <td>Barcelona</td>\n",
       "      <td>Rayo Vallecano</td>\n",
       "      <td>6-1</td>\n",
       "      <td>Win</td>\n",
       "    </tr>\n",
       "    <tr>\n",
       "      <th>36</th>\n",
       "      <td>266967</td>\n",
       "      <td>2015-03-14</td>\n",
       "      <td>Eibar</td>\n",
       "      <td>Barcelona</td>\n",
       "      <td>0-2</td>\n",
       "      <td>Win</td>\n",
       "    </tr>\n",
       "    <tr>\n",
       "      <th>2</th>\n",
       "      <td>267183</td>\n",
       "      <td>2015-03-22</td>\n",
       "      <td>Barcelona</td>\n",
       "      <td>Real Madrid</td>\n",
       "      <td>2-1</td>\n",
       "      <td>Win</td>\n",
       "    </tr>\n",
       "    <tr>\n",
       "      <th>37</th>\n",
       "      <td>266929</td>\n",
       "      <td>2015-04-05</td>\n",
       "      <td>Celta Vigo</td>\n",
       "      <td>Barcelona</td>\n",
       "      <td>0-1</td>\n",
       "      <td>Win</td>\n",
       "    </tr>\n",
       "    <tr>\n",
       "      <th>11</th>\n",
       "      <td>267400</td>\n",
       "      <td>2015-04-08</td>\n",
       "      <td>Barcelona</td>\n",
       "      <td>Almería</td>\n",
       "      <td>4-0</td>\n",
       "      <td>Win</td>\n",
       "    </tr>\n",
       "    <tr>\n",
       "      <th>12</th>\n",
       "      <td>266142</td>\n",
       "      <td>2015-04-11</td>\n",
       "      <td>Sevilla</td>\n",
       "      <td>Barcelona</td>\n",
       "      <td>2-2</td>\n",
       "      <td>Draw</td>\n",
       "    </tr>\n",
       "    <tr>\n",
       "      <th>28</th>\n",
       "      <td>266525</td>\n",
       "      <td>2015-04-18</td>\n",
       "      <td>Barcelona</td>\n",
       "      <td>Valencia</td>\n",
       "      <td>2-0</td>\n",
       "      <td>Win</td>\n",
       "    </tr>\n",
       "    <tr>\n",
       "      <th>31</th>\n",
       "      <td>266531</td>\n",
       "      <td>2015-04-25</td>\n",
       "      <td>Espanyol</td>\n",
       "      <td>Barcelona</td>\n",
       "      <td>0-2</td>\n",
       "      <td>Win</td>\n",
       "    </tr>\n",
       "    <tr>\n",
       "      <th>5</th>\n",
       "      <td>265963</td>\n",
       "      <td>2015-04-28</td>\n",
       "      <td>Barcelona</td>\n",
       "      <td>Getafe</td>\n",
       "      <td>6-0</td>\n",
       "      <td>Win</td>\n",
       "    </tr>\n",
       "    <tr>\n",
       "      <th>10</th>\n",
       "      <td>265866</td>\n",
       "      <td>2015-05-02</td>\n",
       "      <td>Córdoba</td>\n",
       "      <td>Barcelona</td>\n",
       "      <td>0-8</td>\n",
       "      <td>Win</td>\n",
       "    </tr>\n",
       "    <tr>\n",
       "      <th>17</th>\n",
       "      <td>266045</td>\n",
       "      <td>2015-05-09</td>\n",
       "      <td>Barcelona</td>\n",
       "      <td>Real Sociedad</td>\n",
       "      <td>2-0</td>\n",
       "      <td>Win</td>\n",
       "    </tr>\n",
       "    <tr>\n",
       "      <th>25</th>\n",
       "      <td>266631</td>\n",
       "      <td>2015-05-17</td>\n",
       "      <td>Atlético Madrid</td>\n",
       "      <td>Barcelona</td>\n",
       "      <td>0-1</td>\n",
       "      <td>Win</td>\n",
       "    </tr>\n",
       "    <tr>\n",
       "      <th>3</th>\n",
       "      <td>267197</td>\n",
       "      <td>2015-05-23</td>\n",
       "      <td>Barcelona</td>\n",
       "      <td>Deportivo La Coruna</td>\n",
       "      <td>2-2</td>\n",
       "      <td>Draw</td>\n",
       "    </tr>\n",
       "  </tbody>\n",
       "</table>\n",
       "</div>"
      ],
      "text/plain": [
       "    Match ID        Date            Home Team            Away Team Score  \\\n",
       "32    266921  2014-08-24            Barcelona                Elche   3-0   \n",
       "13    266406  2014-08-31           Villarreal            Barcelona   0-1   \n",
       "7      70273  2014-09-13            Barcelona      Athletic Bilbao   2-0   \n",
       "4     266770  2014-09-21              Levante            Barcelona   0-5   \n",
       "22    266838  2014-09-24               Málaga            Barcelona   0-0   \n",
       "0     266117  2014-09-27            Barcelona              Granada   6-0   \n",
       "15    267561  2014-10-04       Rayo Vallecano            Barcelona   0-2   \n",
       "9     265896  2014-10-18            Barcelona                Eibar   3-0   \n",
       "14    267085  2014-10-25          Real Madrid            Barcelona   3-1   \n",
       "8     267301  2014-11-01            Barcelona           Celta Vigo   0-1   \n",
       "33    267499  2014-11-08              Almería            Barcelona   1-2   \n",
       "21    265835  2014-11-22            Barcelona              Sevilla   5-1   \n",
       "29    266560  2014-11-30             Valencia            Barcelona   0-1   \n",
       "26    266320  2014-12-07            Barcelona             Espanyol   5-1   \n",
       "6      70264  2014-12-13               Getafe            Barcelona   0-0   \n",
       "30    266846  2014-12-20            Barcelona              Córdoba   5-0   \n",
       "19    266240  2015-01-04        Real Sociedad            Barcelona   1-0   \n",
       "18     70303  2015-01-11            Barcelona      Atlético Madrid   3-1   \n",
       "27    266230  2015-01-18  Deportivo La Coruna            Barcelona   0-4   \n",
       "23    266794  2015-01-24                Elche            Barcelona   0-6   \n",
       "20    267597  2015-02-01            Barcelona           Villarreal   3-2   \n",
       "35    266871  2015-02-08      Athletic Bilbao            Barcelona   2-5   \n",
       "34    266741  2015-02-15            Barcelona              Levante   5-0   \n",
       "16    266148  2015-02-21            Barcelona               Málaga   0-1   \n",
       "24    267343  2015-02-28              Granada            Barcelona   1-3   \n",
       "1     266916  2015-03-08            Barcelona       Rayo Vallecano   6-1   \n",
       "36    266967  2015-03-14                Eibar            Barcelona   0-2   \n",
       "2     267183  2015-03-22            Barcelona          Real Madrid   2-1   \n",
       "37    266929  2015-04-05           Celta Vigo            Barcelona   0-1   \n",
       "11    267400  2015-04-08            Barcelona              Almería   4-0   \n",
       "12    266142  2015-04-11              Sevilla            Barcelona   2-2   \n",
       "28    266525  2015-04-18            Barcelona             Valencia   2-0   \n",
       "31    266531  2015-04-25             Espanyol            Barcelona   0-2   \n",
       "5     265963  2015-04-28            Barcelona               Getafe   6-0   \n",
       "10    265866  2015-05-02              Córdoba            Barcelona   0-8   \n",
       "17    266045  2015-05-09            Barcelona        Real Sociedad   2-0   \n",
       "25    266631  2015-05-17      Atlético Madrid            Barcelona   0-1   \n",
       "3     267197  2015-05-23            Barcelona  Deportivo La Coruna   2-2   \n",
       "\n",
       "   Match Result for FC Barcelona  \n",
       "32                           Win  \n",
       "13                           Win  \n",
       "7                            Win  \n",
       "4                            Win  \n",
       "22                          Draw  \n",
       "0                            Win  \n",
       "15                           Win  \n",
       "9                            Win  \n",
       "14                          Loss  \n",
       "8                           Loss  \n",
       "33                           Win  \n",
       "21                           Win  \n",
       "29                           Win  \n",
       "26                           Win  \n",
       "6                           Draw  \n",
       "30                           Win  \n",
       "19                          Loss  \n",
       "18                           Win  \n",
       "27                           Win  \n",
       "23                           Win  \n",
       "20                           Win  \n",
       "35                           Win  \n",
       "34                           Win  \n",
       "16                          Loss  \n",
       "24                           Win  \n",
       "1                            Win  \n",
       "36                           Win  \n",
       "2                            Win  \n",
       "37                           Win  \n",
       "11                           Win  \n",
       "12                          Draw  \n",
       "28                           Win  \n",
       "31                           Win  \n",
       "5                            Win  \n",
       "10                           Win  \n",
       "17                           Win  \n",
       "25                           Win  \n",
       "3                           Draw  "
      ]
     },
     "execution_count": 51,
     "metadata": {},
     "output_type": "execute_result"
    }
   ],
   "source": [
    "df"
   ]
  },
  {
   "cell_type": "code",
   "execution_count": 64,
   "metadata": {},
   "outputs": [],
   "source": [
    "# calculating FC Barcelona's total number of La Liga wins, draws and losses in the 2014-15 season\n",
    "total_wins = df['Match Result for FC Barcelona'].value_counts()['Win']\n",
    "total_draws = df['Match Result for FC Barcelona'].value_counts()['Draw']\n",
    "total_losses = df['Match Result for FC Barcelona'].value_counts()['Loss']"
   ]
  },
  {
   "cell_type": "code",
   "execution_count": 65,
   "metadata": {},
   "outputs": [
    {
     "name": "stdout",
     "output_type": "stream",
     "text": [
      "FC Barcelona's La Liga 2014-15 games in numbers:\n",
      "\n",
      "Total wins: 30\n",
      "Total draws: 4\n",
      "Total losses: 4\n"
     ]
    }
   ],
   "source": [
    "print(\"FC Barcelona's La Liga 2014-15 games in numbers:\\n\")\n",
    "print(f'Total wins: {total_wins}')\n",
    "print(f'Total draws: {total_draws}')\n",
    "print(f'Total losses: {total_losses}')"
   ]
  },
  {
   "cell_type": "code",
   "execution_count": 63,
   "metadata": {},
   "outputs": [
    {
     "data": {
      "text/plain": [
       "78.95"
      ]
     },
     "execution_count": 63,
     "metadata": {},
     "output_type": "execute_result"
    }
   ],
   "source": [
    "# calculating FC Barcelona's win percentage in La Liga 2014-15\n",
    "win_percentage = round((total_wins/total_matches)*100, 2)\n",
    "win_percentage"
   ]
  },
  {
   "cell_type": "markdown",
   "metadata": {},
   "source": [
    "FC Barcelona had won 78.95% of their 38 matches in La Liga 2014-15"
   ]
  },
  {
   "cell_type": "code",
   "execution_count": null,
   "metadata": {},
   "outputs": [],
   "source": []
  }
 ],
 "metadata": {
  "kernelspec": {
   "display_name": "Python 3",
   "language": "python",
   "name": "python3"
  },
  "language_info": {
   "codemirror_mode": {
    "name": "ipython",
    "version": 3
   },
   "file_extension": ".py",
   "mimetype": "text/x-python",
   "name": "python",
   "nbconvert_exporter": "python",
   "pygments_lexer": "ipython3",
   "version": "3.7.9"
  }
 },
 "nbformat": 4,
 "nbformat_minor": 4
}
