{
 "cells": [
  {
   "cell_type": "markdown",
   "metadata": {},
   "source": [
    "# Working with StatsBomb competition and match data"
   ]
  },
  {
   "cell_type": "markdown",
   "metadata": {},
   "source": [
    "### Import libraries and modules"
   ]
  },
  {
   "cell_type": "code",
   "execution_count": 1,
   "metadata": {},
   "outputs": [],
   "source": [
    "import json"
   ]
  },
  {
   "cell_type": "markdown",
   "metadata": {},
   "source": [
    "### Load in the competition and match data"
   ]
  },
  {
   "cell_type": "code",
   "execution_count": 14,
   "metadata": {},
   "outputs": [],
   "source": [
    "# loading in the competition data\n",
    "with open('SoccermaticsForPython-master/StatsBomb/data/competitions.json') as f:\n",
    "    competitions = json.load(f)"
   ]
  },
  {
   "cell_type": "markdown",
   "metadata": {},
   "source": [
    "Let's see what data we have for a competition."
   ]
  },
  {
   "cell_type": "code",
   "execution_count": 9,
   "metadata": {},
   "outputs": [
    {
     "data": {
      "text/plain": [
       "{'competition_id': 16,\n",
       " 'season_id': 4,\n",
       " 'country_name': 'Europe',\n",
       " 'competition_name': 'Champions League',\n",
       " 'competition_gender': 'male',\n",
       " 'season_name': '2018/2019',\n",
       " 'match_updated': '2020-10-25T12:33:27.855343',\n",
       " 'match_available': '2020-10-25T12:33:27.855343'}"
      ]
     },
     "execution_count": 9,
     "metadata": {},
     "output_type": "execute_result"
    }
   ],
   "source": [
    "competitions[0]"
   ]
  },
  {
   "cell_type": "markdown",
   "metadata": {},
   "source": [
    "Let's have a look at all the competitions and seasons we have in our competition data."
   ]
  },
  {
   "cell_type": "code",
   "execution_count": 11,
   "metadata": {},
   "outputs": [
    {
     "name": "stdout",
     "output_type": "stream",
     "text": [
      "Champions League 2018/2019\n",
      "Champions League 2017/2018\n",
      "Champions League 2016/2017\n",
      "Champions League 2015/2016\n",
      "Champions League 2014/2015\n",
      "Champions League 2013/2014\n",
      "Champions League 2012/2013\n",
      "Champions League 2011/2012\n",
      "Champions League 2010/2011\n",
      "Champions League 2009/2010\n",
      "Champions League 2008/2009\n",
      "Champions League 2006/2007\n",
      "Champions League 2004/2005\n",
      "Champions League 2003/2004\n",
      "Champions League 1999/2000\n",
      "FA Women's Super League 2019/2020\n",
      "FA Women's Super League 2018/2019\n",
      "FIFA World Cup 2018\n",
      "La Liga 2019/2020\n",
      "La Liga 2018/2019\n",
      "La Liga 2017/2018\n",
      "La Liga 2016/2017\n",
      "La Liga 2015/2016\n",
      "La Liga 2014/2015\n",
      "La Liga 2013/2014\n",
      "La Liga 2012/2013\n",
      "La Liga 2011/2012\n",
      "La Liga 2010/2011\n",
      "La Liga 2009/2010\n",
      "La Liga 2008/2009\n",
      "La Liga 2007/2008\n",
      "La Liga 2006/2007\n",
      "La Liga 2005/2006\n",
      "La Liga 2004/2005\n",
      "NWSL 2018\n",
      "Premier League 2003/2004\n",
      "Women's World Cup 2019\n"
     ]
    }
   ],
   "source": [
    "for competition in competitions:\n",
    "    name = competition['competition_name']\n",
    "    season = competition['season_name']\n",
    "    print(f'{name} {season}')"
   ]
  },
  {
   "cell_type": "markdown",
   "metadata": {},
   "source": [
    "I'd like to investigate the data from the 2014-15 season of La Liga. This was the last season when FC Barcelona won the treble (La Liga, Copa del Rey and the UEFA Champions League). Let's load in the La Liga match data specifically from the 2014-15 season. "
   ]
  },
  {
   "cell_type": "code",
   "execution_count": 12,
   "metadata": {},
   "outputs": [],
   "source": [
    "# finding the competition id and season id of La Liga 2014-15 season to help fetch match data from this season\n",
    "for competition in competitions:\n",
    "    if (competition['competition_name'] == 'La Liga') and (competition['season_name'] == '2014/2015'):\n",
    "        competition_id = competition['competition_id']\n",
    "        season_id = competition['season_id']\n",
    "        break"
   ]
  },
  {
   "cell_type": "code",
   "execution_count": 19,
   "metadata": {},
   "outputs": [],
   "source": [
    "# loading in La Liga 2014-15 match data\n",
    "match_data_location = f''\n",
    "with open('SoccermaticsForPython-master/StatsBomb/data/matches/' + str(competition_id) + '/' + str(season_id) + '.json', encoding='utf8') as f:\n",
    "    matches = json.load(f)"
   ]
  },
  {
   "cell_type": "markdown",
   "metadata": {},
   "source": [
    "Let's check out what data we have for a single match."
   ]
  },
  {
   "cell_type": "code",
   "execution_count": 22,
   "metadata": {},
   "outputs": [
    {
     "data": {
      "text/plain": [
       "{'match_id': 266117,\n",
       " 'match_date': '2014-09-27',\n",
       " 'kick_off': '18:00:00.000',\n",
       " 'competition': {'competition_id': 11,\n",
       "  'country_name': 'Spain',\n",
       "  'competition_name': 'La Liga'},\n",
       " 'season': {'season_id': 26, 'season_name': '2014/2015'},\n",
       " 'home_team': {'home_team_id': 217,\n",
       "  'home_team_name': 'Barcelona',\n",
       "  'home_team_gender': 'male',\n",
       "  'home_team_group': None,\n",
       "  'country': {'id': 214, 'name': 'Spain'},\n",
       "  'managers': [{'id': 793,\n",
       "    'name': 'Luis Enrique Martínez García',\n",
       "    'nickname': 'Luis Enrique',\n",
       "    'dob': None,\n",
       "    'country': {'id': 214, 'name': 'Spain'}}]},\n",
       " 'away_team': {'away_team_id': 1049,\n",
       "  'away_team_name': 'Granada',\n",
       "  'away_team_gender': 'male',\n",
       "  'away_team_group': None,\n",
       "  'country': {'id': 214, 'name': 'Spain'},\n",
       "  'managers': [{'id': 497,\n",
       "    'name': 'Joaquín de Jesús Caparrós Camino',\n",
       "    'nickname': 'Joaquín Caparrós',\n",
       "    'dob': None,\n",
       "    'country': {'id': 214, 'name': 'Spain'}}]},\n",
       " 'home_score': 6,\n",
       " 'away_score': 0,\n",
       " 'match_status': 'available',\n",
       " 'last_updated': '2020-07-29T05:00',\n",
       " 'metadata': {'data_version': '1.1.0',\n",
       "  'shot_fidelity_version': '2',\n",
       "  'xy_fidelity_version': '2'},\n",
       " 'match_week': 6,\n",
       " 'competition_stage': {'id': 1, 'name': 'Regular Season'},\n",
       " 'stadium': {'id': 342,\n",
       "  'name': 'Camp Nou',\n",
       "  'country': {'id': 214, 'name': 'Spain'}},\n",
       " 'referee': {'id': 207,\n",
       "  'name': 'Juan Martínez',\n",
       "  'country': {'id': 112, 'name': 'Italy'}}}"
      ]
     },
     "execution_count": 22,
     "metadata": {},
     "output_type": "execute_result"
    }
   ],
   "source": [
    "matches[0]"
   ]
  },
  {
   "cell_type": "markdown",
   "metadata": {},
   "source": [
    "You can see that FC Barcelona's name is saved as 'Barcelona' in this data. We will need information this later."
   ]
  },
  {
   "cell_type": "markdown",
   "metadata": {},
   "source": [
    "### Data analysis"
   ]
  },
  {
   "cell_type": "markdown",
   "metadata": {},
   "source": [
    "A quick check shows that this json file contains only the match result data of FC Barcelona from La Liga 2014-15:     "
   ]
  },
  {
   "cell_type": "code",
   "execution_count": 32,
   "metadata": {},
   "outputs": [
    {
     "name": "stdout",
     "output_type": "stream",
     "text": [
      "Home team: Barcelona, Away team: Granada\n",
      "Home team: Barcelona, Away team: Rayo Vallecano\n",
      "Home team: Barcelona, Away team: Real Madrid\n",
      "Home team: Barcelona, Away team: Deportivo La Coruna\n",
      "Home team: Levante, Away team: Barcelona\n",
      "Home team: Barcelona, Away team: Getafe\n",
      "Home team: Getafe, Away team: Barcelona\n",
      "Home team: Barcelona, Away team: Athletic Bilbao\n",
      "Home team: Barcelona, Away team: Celta Vigo\n",
      "Home team: Barcelona, Away team: Eibar\n",
      "Home team: Córdoba, Away team: Barcelona\n",
      "Home team: Barcelona, Away team: Almería\n",
      "Home team: Sevilla, Away team: Barcelona\n",
      "Home team: Villarreal, Away team: Barcelona\n",
      "Home team: Real Madrid, Away team: Barcelona\n",
      "Home team: Rayo Vallecano, Away team: Barcelona\n",
      "Home team: Barcelona, Away team: Málaga\n",
      "Home team: Barcelona, Away team: Real Sociedad\n",
      "Home team: Barcelona, Away team: Atlético Madrid\n",
      "Home team: Real Sociedad, Away team: Barcelona\n",
      "Home team: Barcelona, Away team: Villarreal\n",
      "Home team: Barcelona, Away team: Sevilla\n",
      "Home team: Málaga, Away team: Barcelona\n",
      "Home team: Elche, Away team: Barcelona\n",
      "Home team: Granada, Away team: Barcelona\n",
      "Home team: Atlético Madrid, Away team: Barcelona\n",
      "Home team: Barcelona, Away team: Espanyol\n",
      "Home team: Deportivo La Coruna, Away team: Barcelona\n",
      "Home team: Barcelona, Away team: Valencia\n",
      "Home team: Valencia, Away team: Barcelona\n",
      "Home team: Barcelona, Away team: Córdoba\n",
      "Home team: Espanyol, Away team: Barcelona\n",
      "Home team: Barcelona, Away team: Elche\n",
      "Home team: Almería, Away team: Barcelona\n",
      "Home team: Barcelona, Away team: Levante\n",
      "Home team: Athletic Bilbao, Away team: Barcelona\n",
      "Home team: Eibar, Away team: Barcelona\n",
      "Home team: Celta Vigo, Away team: Barcelona\n",
      "\n",
      "\n",
      "Total number of matches listed in the json file: 38\n"
     ]
    }
   ],
   "source": [
    "total_matches = 0\n",
    "for match in matches:\n",
    "    home_team = match['home_team']['home_team_name']\n",
    "    away_team = match['away_team']['away_team_name']\n",
    "    total_matches += 1\n",
    "    print(f'Home team: {home_team}, Away team: {away_team}')\n",
    "print('\\n')\n",
    "print(f'Total number of matches listed in the json file: {total_matches}')"
   ]
  },
  {
   "cell_type": "markdown",
   "metadata": {},
   "source": [
    "You can notice that each of the matches listed above contain FC Barcelona either as the home team or as the away team. Let's confirm this. If this json file contains all of FC Barcelona's results from La Liga 2014-15 only, then we should have 19 home matches and 19 away matches with FC Barcelona being either the home team or the away team (there are a total of 20 teams in La Liga, so each team plays against the other 19 teams twice - once at home and once away from home)."
   ]
  },
  {
   "cell_type": "code",
   "execution_count": 34,
   "metadata": {},
   "outputs": [
    {
     "name": "stdout",
     "output_type": "stream",
     "text": [
      "Number of matches in the json file with FC Barcelona as the home team: 19\n",
      "Number of matches in the json file with FC Barcelona as the away team: 19\n"
     ]
    }
   ],
   "source": [
    "home_matches, away_matches = 0, 0\n",
    "for match in matches:\n",
    "    if match['home_team']['home_team_name'] == 'Barcelona':\n",
    "        home_matches += 1\n",
    "    elif match['away_team']['away_team_name'] == 'Barcelona':\n",
    "        away_matches += 1\n",
    "print(f'Number of matches in the json file with FC Barcelona as the home team: {home_matches}')\n",
    "print(f'Number of matches in the json file with FC Barcelona as the away team: {away_matches}')"
   ]
  },
  {
   "cell_type": "markdown",
   "metadata": {},
   "source": [
    "Now, we are sure that this json file that we have loaded in for the La Liga 2014-15 data contains match data for only FC Barcelona. But this is a good thing for us as we needed all of FC Barcelona's match data for this season. "
   ]
  },
  {
   "cell_type": "markdown",
   "metadata": {},
   "source": [
    "First of all, I will create a list of all of the match results of FC Barcelona in La Liga 2014-15 and add them to a dataframe."
   ]
  },
  {
   "cell_type": "code",
   "execution_count": null,
   "metadata": {},
   "outputs": [],
   "source": [
    "match_results = []\n",
    "for match in matches:\n",
    "    "
   ]
  }
 ],
 "metadata": {
  "kernelspec": {
   "display_name": "Python 3",
   "language": "python",
   "name": "python3"
  },
  "language_info": {
   "codemirror_mode": {
    "name": "ipython",
    "version": 3
   },
   "file_extension": ".py",
   "mimetype": "text/x-python",
   "name": "python",
   "nbconvert_exporter": "python",
   "pygments_lexer": "ipython3",
   "version": "3.7.9"
  }
 },
 "nbformat": 4,
 "nbformat_minor": 4
}
